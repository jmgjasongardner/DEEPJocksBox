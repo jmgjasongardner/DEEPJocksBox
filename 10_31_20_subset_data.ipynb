{
  "nbformat": 4,
  "nbformat_minor": 0,
  "metadata": {
    "kernelspec": {
      "display_name": "Python 3",
      "language": "python",
      "name": "python3"
    },
    "language_info": {
      "codemirror_mode": {
        "name": "ipython",
        "version": 3
      },
      "file_extension": ".py",
      "mimetype": "text/x-python",
      "name": "python",
      "nbconvert_exporter": "python",
      "pygments_lexer": "ipython3",
      "version": "3.7.0"
    },
    "toc": {
      "base_numbering": 1,
      "nav_menu": {},
      "number_sections": true,
      "sideBar": true,
      "skip_h1_title": false,
      "title_cell": "Table of Contents",
      "title_sidebar": "Contents",
      "toc_cell": false,
      "toc_position": {},
      "toc_section_display": true,
      "toc_window_display": false
    },
    "colab": {
      "name": "10_31_20_subset_data.ipynb",
      "provenance": [],
      "collapsed_sections": [],
      "toc_visible": true
    }
  },
  "cells": [
    {
      "cell_type": "markdown",
      "metadata": {
        "id": "J2jQaD4QQfNu"
      },
      "source": [
        "Housekeeping and general tinkering around"
      ]
    },
    {
      "cell_type": "code",
      "metadata": {
        "id": "q8qwwphNQfNw"
      },
      "source": [
        "# import libraries \n",
        "import seaborn as sns\n",
        "import pandas as pd\n",
        "import matplotlib.pyplot as plt"
      ],
      "execution_count": null,
      "outputs": []
    },
    {
      "cell_type": "code",
      "metadata": {
        "id": "VoxYZg13QfN0"
      },
      "source": [
        "# import your data \n",
        "df = pd.read_csv('2012-18_officialBoxScore.csv')"
      ],
      "execution_count": null,
      "outputs": []
    },
    {
      "cell_type": "code",
      "metadata": {
        "id": "6gmc6DawiEAe",
        "outputId": "887c885a-f68a-4b55-aa08-43b679b7532b",
        "colab": {
          "base_uri": "https://localhost:8080/"
        }
      },
      "source": [
        "print(df.head)\n"
      ],
      "execution_count": null,
      "outputs": [
        {
          "output_type": "stream",
          "text": [
            "<bound method NDFrame.head of            gmDate gmTime  seasTyp  ... opptSTL/TO     poss     pace\n",
            "0      2012-10-30  19:00  Regular  ...    33.3333  88.9409  88.9409\n",
            "1      2012-10-30  19:00  Regular  ...    33.3333  88.9409  88.9409\n",
            "2      2012-10-30  19:00  Regular  ...    33.3333  88.9409  88.9409\n",
            "3      2012-10-30  19:00  Regular  ...    84.6154  88.9409  88.9409\n",
            "4      2012-10-30  19:00  Regular  ...    84.6154  88.9409  88.9409\n",
            "...           ...    ...      ...  ...        ...      ...      ...\n",
            "44279  2018-04-11  10:30  Regular  ...    54.5455  91.9864  91.6047\n",
            "44280  2018-04-11  10:30  Regular  ...    54.5455  91.9864  91.6047\n",
            "44281  2018-04-11  10:30  Regular  ...    14.2857  91.9864  91.9864\n",
            "44282  2018-04-11  10:30  Regular  ...    14.2857  91.9864  91.9864\n",
            "44283  2018-04-11  10:30  Regular  ...    14.2857  91.9864  91.9864\n",
            "\n",
            "[44284 rows x 119 columns]>\n"
          ],
          "name": "stdout"
        }
      ]
    },
    {
      "cell_type": "code",
      "metadata": {
        "id": "krBzHoqyjht9",
        "outputId": "6a469741-4798-4d96-d3b2-9130463e62ae",
        "colab": {
          "base_uri": "https://localhost:8080/"
        }
      },
      "source": [
        "print(df.dtypes)"
      ],
      "execution_count": null,
      "outputs": [
        {
          "output_type": "stream",
          "text": [
            "gmDate         object\n",
            "gmTime         object\n",
            "seasTyp        object\n",
            "offLNm         object\n",
            "offFNm         object\n",
            "               ...   \n",
            "opptAR        float64\n",
            "opptAST/TO    float64\n",
            "opptSTL/TO    float64\n",
            "poss          float64\n",
            "pace          float64\n",
            "Length: 119, dtype: object\n"
          ],
          "name": "stdout"
        }
      ]
    },
    {
      "cell_type": "code",
      "metadata": {
        "id": "CfjfHQG-iaxO",
        "outputId": "891df082-9e02-4f4d-99e6-147437e5187d",
        "colab": {
          "base_uri": "https://localhost:8080/"
        }
      },
      "source": [
        "month = df.loc[:,\"gmDate\"]\n",
        "print(month)"
      ],
      "execution_count": null,
      "outputs": [
        {
          "output_type": "stream",
          "text": [
            "0        2012-10-30\n",
            "1        2012-10-30\n",
            "2        2012-10-30\n",
            "3        2012-10-30\n",
            "4        2012-10-30\n",
            "            ...    \n",
            "44279    2018-04-11\n",
            "44280    2018-04-11\n",
            "44281    2018-04-11\n",
            "44282    2018-04-11\n",
            "44283    2018-04-11\n",
            "Name: gmDate, Length: 44284, dtype: object\n"
          ],
          "name": "stdout"
        }
      ]
    },
    {
      "cell_type": "markdown",
      "metadata": {
        "id": "Zeu-S4BLl3qS"
      },
      "source": [
        "This method below makes it so I can split by specefic dates... now need to make it more specefic rather than only splitting by year"
      ]
    },
    {
      "cell_type": "code",
      "metadata": {
        "id": "2Ic9K0UNjgUA"
      },
      "source": [
        "for index, row in df.iterrows():\n",
        "    if \"2012\" in row[\"gmDate\"]:\n",
        "      split_by_year = row\n"
      ],
      "execution_count": null,
      "outputs": []
    },
    {
      "cell_type": "markdown",
      "metadata": {
        "id": "3DK7pYoWmVC8"
      },
      "source": [
        "Lets create new columns seasons and types that correspond to the season and whether it is train or test"
      ]
    },
    {
      "cell_type": "code",
      "metadata": {
        "id": "6Rh2GN0gmJw2",
        "outputId": "9004e85f-7616-4281-e69f-c717af43359c",
        "colab": {
          "base_uri": "https://localhost:8080/"
        }
      },
      "source": [
        "mthlist = [10,11,12,1]\n",
        "seasons = []\n",
        "types = []\n",
        "\n",
        "for index,row in df.iterrows():\n",
        "    month = int(row[\"gmDate\"][5:7])\n",
        "    year = int(row[\"gmDate\"][0:4])\n",
        "\n",
        "    if month in mthlist:\n",
        "      types.append(\"Train\")\n",
        "      if month != 1:\n",
        "        seasons.append(year + 1)\n",
        "      else:\n",
        "        seasons.append(year)\n",
        "\n",
        "    else:\n",
        "      seasons.append(year)\n",
        "      types.append(\"Test\")\n",
        "df.insert(df.shape[1],\"season\",seasons)\n",
        "df.insert(df.shape[1],\"type\",types)\n",
        "print(df)\n"
      ],
      "execution_count": 66,
      "outputs": [
        {
          "output_type": "stream",
          "text": [
            "           gmDate gmTime  seasTyp    offLNm  ...     poss     pace season   type\n",
            "0      2012-10-30  19:00  Regular  Brothers  ...  88.9409  88.9409   2013  Train\n",
            "1      2012-10-30  19:00  Regular     Smith  ...  88.9409  88.9409   2013  Train\n",
            "2      2012-10-30  19:00  Regular   Workman  ...  88.9409  88.9409   2013  Train\n",
            "3      2012-10-30  19:00  Regular  Brothers  ...  88.9409  88.9409   2013  Train\n",
            "4      2012-10-30  19:00  Regular     Smith  ...  88.9409  88.9409   2013  Train\n",
            "...           ...    ...      ...       ...  ...      ...      ...    ...    ...\n",
            "44279  2018-04-11  10:30  Regular       Orr  ...  91.9864  91.6047   2018   Test\n",
            "44280  2018-04-11  10:30  Regular    Foster  ...  91.9864  91.6047   2018   Test\n",
            "44281  2018-04-11  10:30  Regular     Tiven  ...  91.9864  91.9864   2018   Test\n",
            "44282  2018-04-11  10:30  Regular       Orr  ...  91.9864  91.9864   2018   Test\n",
            "44283  2018-04-11  10:30  Regular    Foster  ...  91.9864  91.9864   2018   Test\n",
            "\n",
            "[44284 rows x 121 columns]\n"
          ],
          "name": "stdout"
        }
      ]
    }
  ]
}