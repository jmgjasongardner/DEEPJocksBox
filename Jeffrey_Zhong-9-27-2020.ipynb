{
  "nbformat": 4,
  "nbformat_minor": 0,
  "metadata": {
    "kernelspec": {
      "display_name": "Python 3",
      "language": "python",
      "name": "python3"
    },
    "language_info": {
      "codemirror_mode": {
        "name": "ipython",
        "version": 3
      },
      "file_extension": ".py",
      "mimetype": "text/x-python",
      "name": "python",
      "nbconvert_exporter": "python",
      "pygments_lexer": "ipython3",
      "version": "3.7.0"
    },
    "toc": {
      "base_numbering": 1,
      "nav_menu": {},
      "number_sections": true,
      "sideBar": true,
      "skip_h1_title": false,
      "title_cell": "Table of Contents",
      "title_sidebar": "Contents",
      "toc_cell": false,
      "toc_position": {},
      "toc_section_display": true,
      "toc_window_display": false
    },
    "colab": {
      "name": "DEEP2-Worksheet_Jeffrey_Zhong.ipynb",
      "provenance": [],
      "collapsed_sections": [],
      "toc_visible": true
    }
  },
  "cells": [
    {
      "cell_type": "markdown",
      "metadata": {
        "id": "EqWTe1IhO4xv"
      },
      "source": [
        "# Gathering and Cleaning Data \n",
        "\n",
        "## DEEP Workshop #2\n",
        "The goal of this notebook is to give you the knowledge of how to access and begin to understand a new data set.\n",
        "\n",
        "### Table of contents: \n",
        "1. Review: Pandas Data Structures\n",
        "2. Reading in Data\n",
        "3. Getting an Initial Sense for the Data\n",
        "4. Selecting Data Subsets\n",
        "5. Computations and New Columns\n",
        "6. Grouping and Aggregating the Data\n",
        "\n",
        "### Data Overview \n",
        "We are using a dataset on different cereals. Most of the columns are self explanatory but there are two columns that are coded: \n",
        "- mfr: Manufacturer of cereal\n",
        "    - A = American Home Food Products;\n",
        "    - G = General Mills\n",
        "    - K = Kelloggs\n",
        "    - N = Nabisco\n",
        "    - P = Post\n",
        "    - Q = Quaker Oats\n",
        "    - R = Ralston Purina\n",
        "- type:\n",
        "    - cold\n",
        "    - hot\n",
        "   \n",
        "You can find more about the dataset here: https://www.kaggle.com/crawford/80-cereals"
      ]
    },
    {
      "cell_type": "markdown",
      "metadata": {
        "id": "iqWilyLHO4xw"
      },
      "source": [
        "# Review: Pandas Data Structures \n",
        "\n",
        "In pandas, there are two key data structures - a series and a dataframe.\n",
        "A series a one-dimensional labeled array (or list) capable of holding any data type.\n",
        "A dataframe represents tabular data and is composed of columns, where each column is a series.\n",
        "\n",
        "You can read more about the basic data structures in Panda's documentation: https://pandas.pydata.org/docs/user_guide/dsintro.html"
      ]
    },
    {
      "cell_type": "markdown",
      "metadata": {
        "id": "LEqbuWKrO4xx"
      },
      "source": [
        "# Reading in Data\n",
        "\n",
        "Before we can learn about pandas we need to read in the library. \\\n",
        "In python libraries are read in like this:\n",
        "```\n",
        "import library_name as some_abbreviation\n",
        "```\n",
        "\n",
        "First we want to access the data we will be using pandas.\n",
        "\n",
        "To read-in and create a new data frame from a csv in pandas we use:\n",
        "\n",
        "```\n",
        "df = pd.read_csv('path or url to csv')\n",
        "```"
      ]
    },
    {
      "cell_type": "code",
      "metadata": {
        "id": "gysIUN1FO4xx"
      },
      "source": [
        "# import libraries \n",
        "import pandas as pd\n"
      ],
      "execution_count": 4,
      "outputs": []
    },
    {
      "cell_type": "code",
      "metadata": {
        "id": "B1R_ym1kO4x0"
      },
      "source": [
        "# import your data \n",
        "df = pd.read_csv('cereal.csv')"
      ],
      "execution_count": 5,
      "outputs": []
    },
    {
      "cell_type": "markdown",
      "metadata": {
        "id": "klWSrFmFO4x4"
      },
      "source": [
        "# Getting an Initial Sense for the Data  \n",
        "The pandas DataFrame object that we just created has a lot of useful methods and attributes or getting a sense of what is included in our data.\n",
        "\n",
        "A usefull attribute for determining the number of rows and columns of your data is:\n",
        "```\n",
        "df.shape #shape is an attriute not a method so we don't use parenthesis\n",
        "```\n",
        "To get a quick look at the first couple rows of your data use:\n",
        "```\n",
        "df.head() \n",
        "```\n",
        "To get number of unique values in the dataframe \n",
        "```\n",
        "df.nunique()\n",
        "```"
      ]
    },
    {
      "cell_type": "markdown",
      "metadata": {
        "id": "5hkkl9I9O4x5"
      },
      "source": [
        "### Q: What are the dimensions/shape of the cereal dataset?"
      ]
    },
    {
      "cell_type": "code",
      "metadata": {
        "id": "MAI7-D-qO4x5",
        "outputId": "186d46f9-678f-4789-b62b-9817eee1a1d4",
        "colab": {
          "base_uri": "https://localhost:8080/",
          "height": 34
        }
      },
      "source": [
        "df.shape\n",
        "# (77, 16)"
      ],
      "execution_count": 44,
      "outputs": [
        {
          "output_type": "execute_result",
          "data": {
            "text/plain": [
              "(77, 16)"
            ]
          },
          "metadata": {
            "tags": []
          },
          "execution_count": 44
        }
      ]
    },
    {
      "cell_type": "markdown",
      "metadata": {
        "id": "7_LRF0e8O4x7"
      },
      "source": [
        "### Q: Look at the head of the dataset. What does each row represent?"
      ]
    },
    {
      "cell_type": "code",
      "metadata": {
        "id": "UjB0LukpO4x8",
        "outputId": "2566fdf0-c983-4687-c553-d19d2f4fdf4a",
        "colab": {
          "base_uri": "https://localhost:8080/",
          "height": 377
        }
      },
      "source": [
        "df.head() \n",
        "# different cereals"
      ],
      "execution_count": 45,
      "outputs": [
        {
          "output_type": "execute_result",
          "data": {
            "text/html": [
              "<div>\n",
              "<style scoped>\n",
              "    .dataframe tbody tr th:only-of-type {\n",
              "        vertical-align: middle;\n",
              "    }\n",
              "\n",
              "    .dataframe tbody tr th {\n",
              "        vertical-align: top;\n",
              "    }\n",
              "\n",
              "    .dataframe thead th {\n",
              "        text-align: right;\n",
              "    }\n",
              "</style>\n",
              "<table border=\"1\" class=\"dataframe\">\n",
              "  <thead>\n",
              "    <tr style=\"text-align: right;\">\n",
              "      <th></th>\n",
              "      <th>name</th>\n",
              "      <th>mfr</th>\n",
              "      <th>type</th>\n",
              "      <th>calories</th>\n",
              "      <th>protein</th>\n",
              "      <th>fat</th>\n",
              "      <th>sodium</th>\n",
              "      <th>fiber</th>\n",
              "      <th>carbo</th>\n",
              "      <th>sugars</th>\n",
              "      <th>potass</th>\n",
              "      <th>vitamins</th>\n",
              "      <th>shelf</th>\n",
              "      <th>weight</th>\n",
              "      <th>cups</th>\n",
              "      <th>rating</th>\n",
              "    </tr>\n",
              "  </thead>\n",
              "  <tbody>\n",
              "    <tr>\n",
              "      <th>0</th>\n",
              "      <td>100% Bran</td>\n",
              "      <td>N</td>\n",
              "      <td>C</td>\n",
              "      <td>70</td>\n",
              "      <td>4</td>\n",
              "      <td>1</td>\n",
              "      <td>130</td>\n",
              "      <td>10.0</td>\n",
              "      <td>5.0</td>\n",
              "      <td>6</td>\n",
              "      <td>280</td>\n",
              "      <td>25</td>\n",
              "      <td>3</td>\n",
              "      <td>1.0</td>\n",
              "      <td>0.33</td>\n",
              "      <td>68.402973</td>\n",
              "    </tr>\n",
              "    <tr>\n",
              "      <th>1</th>\n",
              "      <td>100% Natural Bran</td>\n",
              "      <td>Q</td>\n",
              "      <td>C</td>\n",
              "      <td>120</td>\n",
              "      <td>3</td>\n",
              "      <td>5</td>\n",
              "      <td>15</td>\n",
              "      <td>2.0</td>\n",
              "      <td>8.0</td>\n",
              "      <td>8</td>\n",
              "      <td>135</td>\n",
              "      <td>0</td>\n",
              "      <td>3</td>\n",
              "      <td>1.0</td>\n",
              "      <td>1.00</td>\n",
              "      <td>33.983679</td>\n",
              "    </tr>\n",
              "    <tr>\n",
              "      <th>2</th>\n",
              "      <td>All-Bran</td>\n",
              "      <td>K</td>\n",
              "      <td>C</td>\n",
              "      <td>70</td>\n",
              "      <td>4</td>\n",
              "      <td>1</td>\n",
              "      <td>260</td>\n",
              "      <td>9.0</td>\n",
              "      <td>7.0</td>\n",
              "      <td>5</td>\n",
              "      <td>320</td>\n",
              "      <td>25</td>\n",
              "      <td>3</td>\n",
              "      <td>1.0</td>\n",
              "      <td>0.33</td>\n",
              "      <td>59.425505</td>\n",
              "    </tr>\n",
              "    <tr>\n",
              "      <th>3</th>\n",
              "      <td>All-Bran with Extra Fiber</td>\n",
              "      <td>K</td>\n",
              "      <td>C</td>\n",
              "      <td>50</td>\n",
              "      <td>4</td>\n",
              "      <td>0</td>\n",
              "      <td>140</td>\n",
              "      <td>14.0</td>\n",
              "      <td>8.0</td>\n",
              "      <td>0</td>\n",
              "      <td>330</td>\n",
              "      <td>25</td>\n",
              "      <td>3</td>\n",
              "      <td>1.0</td>\n",
              "      <td>0.50</td>\n",
              "      <td>93.704912</td>\n",
              "    </tr>\n",
              "    <tr>\n",
              "      <th>4</th>\n",
              "      <td>Almond Delight</td>\n",
              "      <td>R</td>\n",
              "      <td>C</td>\n",
              "      <td>110</td>\n",
              "      <td>2</td>\n",
              "      <td>2</td>\n",
              "      <td>200</td>\n",
              "      <td>1.0</td>\n",
              "      <td>14.0</td>\n",
              "      <td>8</td>\n",
              "      <td>-1</td>\n",
              "      <td>25</td>\n",
              "      <td>3</td>\n",
              "      <td>1.0</td>\n",
              "      <td>0.75</td>\n",
              "      <td>34.384843</td>\n",
              "    </tr>\n",
              "  </tbody>\n",
              "</table>\n",
              "</div>"
            ],
            "text/plain": [
              "                        name mfr type  calories  ...  shelf  weight  cups     rating\n",
              "0                  100% Bran   N    C        70  ...      3     1.0  0.33  68.402973\n",
              "1          100% Natural Bran   Q    C       120  ...      3     1.0  1.00  33.983679\n",
              "2                   All-Bran   K    C        70  ...      3     1.0  0.33  59.425505\n",
              "3  All-Bran with Extra Fiber   K    C        50  ...      3     1.0  0.50  93.704912\n",
              "4             Almond Delight   R    C       110  ...      3     1.0  0.75  34.384843\n",
              "\n",
              "[5 rows x 16 columns]"
            ]
          },
          "metadata": {
            "tags": []
          },
          "execution_count": 45
        }
      ]
    },
    {
      "cell_type": "markdown",
      "metadata": {
        "id": "MByk3B4lO4yB"
      },
      "source": [
        "### Q: What are the columns in the dataset? What datatype is each column?"
      ]
    },
    {
      "cell_type": "code",
      "metadata": {
        "id": "em8pJ1-4O4yC",
        "outputId": "072320f2-3f31-4db8-c204-0a2ee44c30a6",
        "colab": {
          "base_uri": "https://localhost:8080/",
          "height": 306
        }
      },
      "source": [
        "print(df.dtypes)\n",
        "# name, tupe ,colories, etc. "
      ],
      "execution_count": 46,
      "outputs": [
        {
          "output_type": "stream",
          "text": [
            "name         object\n",
            "mfr          object\n",
            "type         object\n",
            "calories      int64\n",
            "protein       int64\n",
            "fat           int64\n",
            "sodium        int64\n",
            "fiber       float64\n",
            "carbo       float64\n",
            "sugars        int64\n",
            "potass        int64\n",
            "vitamins      int64\n",
            "shelf         int64\n",
            "weight      float64\n",
            "cups        float64\n",
            "rating      float64\n",
            "dtype: object\n"
          ],
          "name": "stdout"
        }
      ]
    },
    {
      "cell_type": "markdown",
      "metadata": {
        "id": "20vIpUfEO4yE"
      },
      "source": [
        "### Q: How many unique ratings are there?"
      ]
    },
    {
      "cell_type": "code",
      "metadata": {
        "id": "VRxzyx__O4yF",
        "outputId": "b05db8f6-4350-4ac9-aca5-bb2084c7cee2",
        "colab": {
          "base_uri": "https://localhost:8080/",
          "height": 34
        }
      },
      "source": [
        "subset_df.nunique()\n",
        "# 77"
      ],
      "execution_count": 49,
      "outputs": [
        {
          "output_type": "execute_result",
          "data": {
            "text/plain": [
              "77"
            ]
          },
          "metadata": {
            "tags": []
          },
          "execution_count": 49
        }
      ]
    },
    {
      "cell_type": "markdown",
      "metadata": {
        "id": "_J1NSSidO4yI"
      },
      "source": [
        "# Selecting Subsets \n",
        "A useful methods for selecting rows and columns:\\\n",
        "`subset_df = df.loc[desired rows, desired columns]`\n",
        "\n",
        "For example if we wanted all rows but only the name and rating columns we would use:\\\n",
        "`cerealName_rating_df = cereal_df.loc[:, ['name', 'rating']]`\n",
        "\n",
        "Or if we wanted only the first 50 rows but all columnns we would use:\\\n",
        "`first_50_df = cereal_df.loc[range(50), : ]`\n",
        "\n",
        "We can also use boolean logic to select specific rows:\\\n",
        "`kellogs_df = cereal_df.loc[cereal_df.mfr == \"K\", :]`"
      ]
    },
    {
      "cell_type": "markdown",
      "metadata": {
        "id": "KgC1jlJVO4yJ"
      },
      "source": [
        "### Q: What are the names of all the cereals made by General Mills? How many cereals are made by General Mills?\n",
        "\n",
        "Hint: the code for General Mills is G"
      ]
    },
    {
      "cell_type": "code",
      "metadata": {
        "id": "uM8NVUnBO4yJ",
        "outputId": "c8dec5ef-8c0f-4a9b-820d-864292e7d8c7",
        "colab": {
          "base_uri": "https://localhost:8080/",
          "height": 136
        }
      },
      "source": [
        "GeneralMills_df = df.loc[df.mfr == \"G\", :]\n",
        "GeneralMills_df.name.unique()\n",
        "#GeneralMills_df.name.nunique()\n",
        "#22"
      ],
      "execution_count": 64,
      "outputs": [
        {
          "output_type": "execute_result",
          "data": {
            "text/plain": [
              "array(['Apple Cinnamon Cheerios', 'Basic 4', 'Cheerios',\n",
              "       'Cinnamon Toast Crunch', 'Clusters', 'Cocoa Puffs',\n",
              "       'Count Chocula', 'Crispy Wheat & Raisins', 'Golden Grahams',\n",
              "       'Honey Nut Cheerios', 'Kix', 'Lucky Charms',\n",
              "       'Multi-Grain Cheerios', 'Oatmeal Raisin Crisp', 'Raisin Nut Bran',\n",
              "       'Total Corn Flakes', 'Total Raisin Bran', 'Total Whole Grain',\n",
              "       'Triples', 'Trix', 'Wheaties', 'Wheaties Honey Gold'], dtype=object)"
            ]
          },
          "metadata": {
            "tags": []
          },
          "execution_count": 64
        }
      ]
    },
    {
      "cell_type": "markdown",
      "metadata": {
        "id": "gbsTtr1nO4yO"
      },
      "source": [
        "### Q: What is the highest rating value in the dataset? What is the lowest rating value in the dataset?\n"
      ]
    },
    {
      "cell_type": "code",
      "metadata": {
        "id": "_BL6q5lZO4yP",
        "outputId": "efe7715f-d837-485e-a029-f6f6cc37bcf8",
        "colab": {
          "base_uri": "https://localhost:8080/",
          "height": 34
        }
      },
      "source": [
        "df.rating.max()\n",
        "# df.loc[df.rating == df.rating.max()]\n",
        "#93.704912\n",
        "df.rating.min()\n",
        "#18.042851000000002\n",
        "#df.rating"
      ],
      "execution_count": 68,
      "outputs": [
        {
          "output_type": "execute_result",
          "data": {
            "text/plain": [
              "93.704912"
            ]
          },
          "metadata": {
            "tags": []
          },
          "execution_count": 68
        }
      ]
    },
    {
      "cell_type": "markdown",
      "metadata": {
        "id": "kJC6gcGXO4yT"
      },
      "source": [
        "### Q: How many cereals have sugar content over 5?"
      ]
    },
    {
      "cell_type": "code",
      "metadata": {
        "id": "T2G_vsizO4yU",
        "outputId": "e8df676f-c679-47d2-da78-34761334855a",
        "colab": {
          "base_uri": "https://localhost:8080/",
          "height": 34
        }
      },
      "source": [
        " sugars = df.loc[df.sugars > 5, :]\n",
        " len(sugars)\n",
        " # 46"
      ],
      "execution_count": 72,
      "outputs": [
        {
          "output_type": "execute_result",
          "data": {
            "text/plain": [
              "46"
            ]
          },
          "metadata": {
            "tags": []
          },
          "execution_count": 72
        }
      ]
    },
    {
      "cell_type": "markdown",
      "metadata": {
        "id": "GkSzW60DO4yY"
      },
      "source": [
        "# Computations and New Columns\n",
        "\n",
        "We can also use typical mathematical opperators on columnns or data frame.\n",
        "\n",
        "For example, to convert milligrams of sodium to grams, we would multiply the sodium column by 1000. **(NOTE: this will not actually change the value of the column. Instead a new series is returned)**\n",
        "```\n",
        "cereal_df.loc[:, \"sodium\"] * 1000 # note this will not actually change the value of the column\n",
        "```\n",
        "\n",
        "To create new or overiding existing columns from computations: \n",
        "```\n",
        "df.loc[:, \"column_name\"] = a single value or an array type (ie. list, series, ect.)\n",
        "```\n",
        "\n",
        "So if we wanted to make a column of sodium in grams, we would do: \n",
        "```\n",
        "cereal_df.loc[:, \"grams_sodium\"] = cereal_df.loc[:, \"sodium\"] * 1000\n",
        "```\n",
        "\n",
        "--- \n",
        "We can also use multiple columns in computations. For example, to compute the ratio of sugars to calories: \n",
        "```\n",
        "cereal_df.loc[:, \"sugars\"] / (cereal_df.loc[:, \"calories\"])\n",
        "```\n",
        "\n",
        "\n",
        "Sometimes we want to make computations on single or multiple columns of our data. To do this we can use common mathematical opperations such as `.sum()`, `.mean()`, `.std()`, `median()`.\n",
        "\n",
        "For example to compute the mean (or average) cumulative number of sugars:\n",
        "```\n",
        "cereal_df.loc[:,\"sugars\"].mean()\n",
        "```"
      ]
    },
    {
      "cell_type": "markdown",
      "metadata": {
        "id": "jJHnUoN6O4yZ"
      },
      "source": [
        "### Q: Create a column for grams of potassium. (Note: potassium is currently measured in milligrams.)"
      ]
    },
    {
      "cell_type": "code",
      "metadata": {
        "id": "9bOqMngQO4ya"
      },
      "source": [
        "# 0.001 grams in 1 milligram\n",
        "df.loc[:, \"grams_potass\"] = df.loc[:, \"potass\"] * 0.001"
      ],
      "execution_count": 83,
      "outputs": []
    },
    {
      "cell_type": "markdown",
      "metadata": {
        "id": "KQwOibnqO4yd"
      },
      "source": [
        "### Q: Can you create a column of sugar/weight?"
      ]
    },
    {
      "cell_type": "code",
      "metadata": {
        "id": "MpzTFsWeO4yh"
      },
      "source": [
        "df.loc[:, \"sugar divided by weight\"] = df.loc[:, \"sugars\"] / df.loc[:, \"weight\"]"
      ],
      "execution_count": 93,
      "outputs": []
    },
    {
      "cell_type": "markdown",
      "metadata": {
        "id": "qQjremXjO4ym"
      },
      "source": [
        "### Q: What is the mean and median for sugar amount? Are they the same or different?"
      ]
    },
    {
      "cell_type": "code",
      "metadata": {
        "id": "b5jffEfmO4yn",
        "outputId": "86519425-aca4-492c-f4b8-89100ca6f8c3",
        "colab": {
          "base_uri": "https://localhost:8080/",
          "height": 34
        }
      },
      "source": [
        "df.loc[:,\"sugars\"].mean()\n",
        "# 6.922077922077922\n",
        "df.loc[:,\"sugars\"].median()\n",
        "# 7"
      ],
      "execution_count": 82,
      "outputs": [
        {
          "output_type": "execute_result",
          "data": {
            "text/plain": [
              "7.0"
            ]
          },
          "metadata": {
            "tags": []
          },
          "execution_count": 82
        }
      ]
    },
    {
      "cell_type": "markdown",
      "metadata": {
        "id": "HeEh2g3GcVCK"
      },
      "source": [
        ""
      ]
    },
    {
      "cell_type": "markdown",
      "metadata": {
        "id": "ohgceY74O4yt"
      },
      "source": [
        "### Q: What is the mean and median for fiber? Are they the same or different?"
      ]
    },
    {
      "cell_type": "code",
      "metadata": {
        "id": "QjE01pNjO4yu",
        "outputId": "2c95b7ba-6171-4b55-fe2e-7e3545ba1f2e",
        "colab": {
          "base_uri": "https://localhost:8080/",
          "height": 34
        }
      },
      "source": [
        "df.loc[:,\"fiber\"].mean()\n",
        "# 2.1519480519480516\n",
        "df.loc[:,\"fiber\"].median()\n",
        "# 2"
      ],
      "execution_count": 85,
      "outputs": [
        {
          "output_type": "execute_result",
          "data": {
            "text/plain": [
              "2.0"
            ]
          },
          "metadata": {
            "tags": []
          },
          "execution_count": 85
        }
      ]
    },
    {
      "cell_type": "markdown",
      "metadata": {
        "id": "MpykH6J_O4yz"
      },
      "source": [
        "# Sorting\n",
        "\n",
        "Dataframes make it easy to sort values in a specific column. For example, if we wanted to sort the dataframe by sugar levels, we would do: \n",
        "```\n",
        "cereal_df.sort_values(by=['sugars])\n",
        "```\n",
        "\n",
        "By default, the sort is in ascending order (lowest to high). To sort in descending order, do: \n",
        "```\n",
        "cereal_df.sort_values(by=['sugars], ascending=False)\n",
        "```"
      ]
    },
    {
      "cell_type": "markdown",
      "metadata": {
        "id": "ZXNIEyGGO4yz"
      },
      "source": [
        "### Q: What cereals have the most number of calories?"
      ]
    },
    {
      "cell_type": "code",
      "metadata": {
        "id": "yFpLAMe5O4y0",
        "outputId": "a2ce97bc-c095-4c92-dc40-bf567101e664",
        "colab": {
          "base_uri": "https://localhost:8080/",
          "height": 779
        }
      },
      "source": [
        "df.sort_values(by=['calories'], ascending=False)\n",
        "# Mueslix Crispy Blend, Muesli Raisins; Dates; & Almonds, Muesli Raisins; Peaches; & Pecans"
      ],
      "execution_count": 90,
      "outputs": [
        {
          "output_type": "execute_result",
          "data": {
            "text/html": [
              "<div>\n",
              "<style scoped>\n",
              "    .dataframe tbody tr th:only-of-type {\n",
              "        vertical-align: middle;\n",
              "    }\n",
              "\n",
              "    .dataframe tbody tr th {\n",
              "        vertical-align: top;\n",
              "    }\n",
              "\n",
              "    .dataframe thead th {\n",
              "        text-align: right;\n",
              "    }\n",
              "</style>\n",
              "<table border=\"1\" class=\"dataframe\">\n",
              "  <thead>\n",
              "    <tr style=\"text-align: right;\">\n",
              "      <th></th>\n",
              "      <th>name</th>\n",
              "      <th>mfr</th>\n",
              "      <th>type</th>\n",
              "      <th>calories</th>\n",
              "      <th>protein</th>\n",
              "      <th>fat</th>\n",
              "      <th>sodium</th>\n",
              "      <th>fiber</th>\n",
              "      <th>carbo</th>\n",
              "      <th>sugars</th>\n",
              "      <th>potass</th>\n",
              "      <th>vitamins</th>\n",
              "      <th>shelf</th>\n",
              "      <th>weight</th>\n",
              "      <th>cups</th>\n",
              "      <th>rating</th>\n",
              "      <th>grams_potass</th>\n",
              "      <th>sugar/weight</th>\n",
              "    </tr>\n",
              "  </thead>\n",
              "  <tbody>\n",
              "    <tr>\n",
              "      <th>46</th>\n",
              "      <td>Mueslix Crispy Blend</td>\n",
              "      <td>K</td>\n",
              "      <td>C</td>\n",
              "      <td>160</td>\n",
              "      <td>3</td>\n",
              "      <td>2</td>\n",
              "      <td>150</td>\n",
              "      <td>3.0</td>\n",
              "      <td>17.0</td>\n",
              "      <td>13</td>\n",
              "      <td>160</td>\n",
              "      <td>25</td>\n",
              "      <td>3</td>\n",
              "      <td>1.5</td>\n",
              "      <td>0.67</td>\n",
              "      <td>30.313351</td>\n",
              "      <td>0.160</td>\n",
              "      <td>8.666667</td>\n",
              "    </tr>\n",
              "    <tr>\n",
              "      <th>44</th>\n",
              "      <td>Muesli Raisins; Dates; &amp; Almonds</td>\n",
              "      <td>R</td>\n",
              "      <td>C</td>\n",
              "      <td>150</td>\n",
              "      <td>4</td>\n",
              "      <td>3</td>\n",
              "      <td>95</td>\n",
              "      <td>3.0</td>\n",
              "      <td>16.0</td>\n",
              "      <td>11</td>\n",
              "      <td>170</td>\n",
              "      <td>25</td>\n",
              "      <td>3</td>\n",
              "      <td>1.0</td>\n",
              "      <td>1.00</td>\n",
              "      <td>37.136863</td>\n",
              "      <td>0.170</td>\n",
              "      <td>11.000000</td>\n",
              "    </tr>\n",
              "    <tr>\n",
              "      <th>45</th>\n",
              "      <td>Muesli Raisins; Peaches; &amp; Pecans</td>\n",
              "      <td>R</td>\n",
              "      <td>C</td>\n",
              "      <td>150</td>\n",
              "      <td>4</td>\n",
              "      <td>3</td>\n",
              "      <td>150</td>\n",
              "      <td>3.0</td>\n",
              "      <td>16.0</td>\n",
              "      <td>11</td>\n",
              "      <td>170</td>\n",
              "      <td>25</td>\n",
              "      <td>3</td>\n",
              "      <td>1.0</td>\n",
              "      <td>1.00</td>\n",
              "      <td>34.139765</td>\n",
              "      <td>0.170</td>\n",
              "      <td>11.000000</td>\n",
              "    </tr>\n",
              "    <tr>\n",
              "      <th>70</th>\n",
              "      <td>Total Raisin Bran</td>\n",
              "      <td>G</td>\n",
              "      <td>C</td>\n",
              "      <td>140</td>\n",
              "      <td>3</td>\n",
              "      <td>1</td>\n",
              "      <td>190</td>\n",
              "      <td>4.0</td>\n",
              "      <td>15.0</td>\n",
              "      <td>14</td>\n",
              "      <td>230</td>\n",
              "      <td>100</td>\n",
              "      <td>3</td>\n",
              "      <td>1.5</td>\n",
              "      <td>1.00</td>\n",
              "      <td>28.592785</td>\n",
              "      <td>0.230</td>\n",
              "      <td>9.333333</td>\n",
              "    </tr>\n",
              "    <tr>\n",
              "      <th>39</th>\n",
              "      <td>Just Right Fruit &amp; Nut</td>\n",
              "      <td>K</td>\n",
              "      <td>C</td>\n",
              "      <td>140</td>\n",
              "      <td>3</td>\n",
              "      <td>1</td>\n",
              "      <td>170</td>\n",
              "      <td>2.0</td>\n",
              "      <td>20.0</td>\n",
              "      <td>9</td>\n",
              "      <td>95</td>\n",
              "      <td>100</td>\n",
              "      <td>3</td>\n",
              "      <td>1.3</td>\n",
              "      <td>0.75</td>\n",
              "      <td>36.471512</td>\n",
              "      <td>0.095</td>\n",
              "      <td>6.923077</td>\n",
              "    </tr>\n",
              "    <tr>\n",
              "      <th>...</th>\n",
              "      <td>...</td>\n",
              "      <td>...</td>\n",
              "      <td>...</td>\n",
              "      <td>...</td>\n",
              "      <td>...</td>\n",
              "      <td>...</td>\n",
              "      <td>...</td>\n",
              "      <td>...</td>\n",
              "      <td>...</td>\n",
              "      <td>...</td>\n",
              "      <td>...</td>\n",
              "      <td>...</td>\n",
              "      <td>...</td>\n",
              "      <td>...</td>\n",
              "      <td>...</td>\n",
              "      <td>...</td>\n",
              "      <td>...</td>\n",
              "      <td>...</td>\n",
              "    </tr>\n",
              "    <tr>\n",
              "      <th>2</th>\n",
              "      <td>All-Bran</td>\n",
              "      <td>K</td>\n",
              "      <td>C</td>\n",
              "      <td>70</td>\n",
              "      <td>4</td>\n",
              "      <td>1</td>\n",
              "      <td>260</td>\n",
              "      <td>9.0</td>\n",
              "      <td>7.0</td>\n",
              "      <td>5</td>\n",
              "      <td>320</td>\n",
              "      <td>25</td>\n",
              "      <td>3</td>\n",
              "      <td>1.0</td>\n",
              "      <td>0.33</td>\n",
              "      <td>59.425505</td>\n",
              "      <td>0.320</td>\n",
              "      <td>5.000000</td>\n",
              "    </tr>\n",
              "    <tr>\n",
              "      <th>0</th>\n",
              "      <td>100% Bran</td>\n",
              "      <td>N</td>\n",
              "      <td>C</td>\n",
              "      <td>70</td>\n",
              "      <td>4</td>\n",
              "      <td>1</td>\n",
              "      <td>130</td>\n",
              "      <td>10.0</td>\n",
              "      <td>5.0</td>\n",
              "      <td>6</td>\n",
              "      <td>280</td>\n",
              "      <td>25</td>\n",
              "      <td>3</td>\n",
              "      <td>1.0</td>\n",
              "      <td>0.33</td>\n",
              "      <td>68.402973</td>\n",
              "      <td>0.280</td>\n",
              "      <td>6.000000</td>\n",
              "    </tr>\n",
              "    <tr>\n",
              "      <th>3</th>\n",
              "      <td>All-Bran with Extra Fiber</td>\n",
              "      <td>K</td>\n",
              "      <td>C</td>\n",
              "      <td>50</td>\n",
              "      <td>4</td>\n",
              "      <td>0</td>\n",
              "      <td>140</td>\n",
              "      <td>14.0</td>\n",
              "      <td>8.0</td>\n",
              "      <td>0</td>\n",
              "      <td>330</td>\n",
              "      <td>25</td>\n",
              "      <td>3</td>\n",
              "      <td>1.0</td>\n",
              "      <td>0.50</td>\n",
              "      <td>93.704912</td>\n",
              "      <td>0.330</td>\n",
              "      <td>0.000000</td>\n",
              "    </tr>\n",
              "    <tr>\n",
              "      <th>55</th>\n",
              "      <td>Puffed Wheat</td>\n",
              "      <td>Q</td>\n",
              "      <td>C</td>\n",
              "      <td>50</td>\n",
              "      <td>2</td>\n",
              "      <td>0</td>\n",
              "      <td>0</td>\n",
              "      <td>1.0</td>\n",
              "      <td>10.0</td>\n",
              "      <td>0</td>\n",
              "      <td>50</td>\n",
              "      <td>0</td>\n",
              "      <td>3</td>\n",
              "      <td>0.5</td>\n",
              "      <td>1.00</td>\n",
              "      <td>63.005645</td>\n",
              "      <td>0.050</td>\n",
              "      <td>0.000000</td>\n",
              "    </tr>\n",
              "    <tr>\n",
              "      <th>54</th>\n",
              "      <td>Puffed Rice</td>\n",
              "      <td>Q</td>\n",
              "      <td>C</td>\n",
              "      <td>50</td>\n",
              "      <td>1</td>\n",
              "      <td>0</td>\n",
              "      <td>0</td>\n",
              "      <td>0.0</td>\n",
              "      <td>13.0</td>\n",
              "      <td>0</td>\n",
              "      <td>15</td>\n",
              "      <td>0</td>\n",
              "      <td>3</td>\n",
              "      <td>0.5</td>\n",
              "      <td>1.00</td>\n",
              "      <td>60.756112</td>\n",
              "      <td>0.015</td>\n",
              "      <td>0.000000</td>\n",
              "    </tr>\n",
              "  </tbody>\n",
              "</table>\n",
              "<p>77 rows × 18 columns</p>\n",
              "</div>"
            ],
            "text/plain": [
              "                                 name mfr  ... grams_potass  sugar/weight\n",
              "46               Mueslix Crispy Blend   K  ...        0.160      8.666667\n",
              "44   Muesli Raisins; Dates; & Almonds   R  ...        0.170     11.000000\n",
              "45  Muesli Raisins; Peaches; & Pecans   R  ...        0.170     11.000000\n",
              "70                  Total Raisin Bran   G  ...        0.230      9.333333\n",
              "39             Just Right Fruit & Nut   K  ...        0.095      6.923077\n",
              "..                                ...  ..  ...          ...           ...\n",
              "2                            All-Bran   K  ...        0.320      5.000000\n",
              "0                           100% Bran   N  ...        0.280      6.000000\n",
              "3           All-Bran with Extra Fiber   K  ...        0.330      0.000000\n",
              "55                       Puffed Wheat   Q  ...        0.050      0.000000\n",
              "54                        Puffed Rice   Q  ...        0.015      0.000000\n",
              "\n",
              "[77 rows x 18 columns]"
            ]
          },
          "metadata": {
            "tags": []
          },
          "execution_count": 90
        }
      ]
    },
    {
      "cell_type": "markdown",
      "metadata": {
        "id": "nwFz5_aiO4y3"
      },
      "source": [
        "### Q: What cereals have the least number of calories?"
      ]
    },
    {
      "cell_type": "code",
      "metadata": {
        "id": "GEw8nOxtO4y4",
        "outputId": "70f9e807-85fc-4b55-b628-5892ba3df08f",
        "colab": {
          "base_uri": "https://localhost:8080/",
          "height": 796
        }
      },
      "source": [
        "df.sort_values(by=['calories'])\n",
        "# All-Bran with Extra Fiber, puffed rice, puffed wheat"
      ],
      "execution_count": 15,
      "outputs": [
        {
          "output_type": "execute_result",
          "data": {
            "text/html": [
              "<div>\n",
              "<style scoped>\n",
              "    .dataframe tbody tr th:only-of-type {\n",
              "        vertical-align: middle;\n",
              "    }\n",
              "\n",
              "    .dataframe tbody tr th {\n",
              "        vertical-align: top;\n",
              "    }\n",
              "\n",
              "    .dataframe thead th {\n",
              "        text-align: right;\n",
              "    }\n",
              "</style>\n",
              "<table border=\"1\" class=\"dataframe\">\n",
              "  <thead>\n",
              "    <tr style=\"text-align: right;\">\n",
              "      <th></th>\n",
              "      <th>name</th>\n",
              "      <th>mfr</th>\n",
              "      <th>type</th>\n",
              "      <th>calories</th>\n",
              "      <th>protein</th>\n",
              "      <th>fat</th>\n",
              "      <th>sodium</th>\n",
              "      <th>fiber</th>\n",
              "      <th>carbo</th>\n",
              "      <th>sugars</th>\n",
              "      <th>potass</th>\n",
              "      <th>vitamins</th>\n",
              "      <th>shelf</th>\n",
              "      <th>weight</th>\n",
              "      <th>cups</th>\n",
              "      <th>rating</th>\n",
              "    </tr>\n",
              "  </thead>\n",
              "  <tbody>\n",
              "    <tr>\n",
              "      <th>3</th>\n",
              "      <td>All-Bran with Extra Fiber</td>\n",
              "      <td>K</td>\n",
              "      <td>C</td>\n",
              "      <td>50</td>\n",
              "      <td>4</td>\n",
              "      <td>0</td>\n",
              "      <td>140</td>\n",
              "      <td>14.0</td>\n",
              "      <td>8.0</td>\n",
              "      <td>0</td>\n",
              "      <td>330</td>\n",
              "      <td>25</td>\n",
              "      <td>3</td>\n",
              "      <td>1.00</td>\n",
              "      <td>0.50</td>\n",
              "      <td>93.704912</td>\n",
              "    </tr>\n",
              "    <tr>\n",
              "      <th>54</th>\n",
              "      <td>Puffed Rice</td>\n",
              "      <td>Q</td>\n",
              "      <td>C</td>\n",
              "      <td>50</td>\n",
              "      <td>1</td>\n",
              "      <td>0</td>\n",
              "      <td>0</td>\n",
              "      <td>0.0</td>\n",
              "      <td>13.0</td>\n",
              "      <td>0</td>\n",
              "      <td>15</td>\n",
              "      <td>0</td>\n",
              "      <td>3</td>\n",
              "      <td>0.50</td>\n",
              "      <td>1.00</td>\n",
              "      <td>60.756112</td>\n",
              "    </tr>\n",
              "    <tr>\n",
              "      <th>55</th>\n",
              "      <td>Puffed Wheat</td>\n",
              "      <td>Q</td>\n",
              "      <td>C</td>\n",
              "      <td>50</td>\n",
              "      <td>2</td>\n",
              "      <td>0</td>\n",
              "      <td>0</td>\n",
              "      <td>1.0</td>\n",
              "      <td>10.0</td>\n",
              "      <td>0</td>\n",
              "      <td>50</td>\n",
              "      <td>0</td>\n",
              "      <td>3</td>\n",
              "      <td>0.50</td>\n",
              "      <td>1.00</td>\n",
              "      <td>63.005645</td>\n",
              "    </tr>\n",
              "    <tr>\n",
              "      <th>0</th>\n",
              "      <td>100% Bran</td>\n",
              "      <td>N</td>\n",
              "      <td>C</td>\n",
              "      <td>70</td>\n",
              "      <td>4</td>\n",
              "      <td>1</td>\n",
              "      <td>130</td>\n",
              "      <td>10.0</td>\n",
              "      <td>5.0</td>\n",
              "      <td>6</td>\n",
              "      <td>280</td>\n",
              "      <td>25</td>\n",
              "      <td>3</td>\n",
              "      <td>1.00</td>\n",
              "      <td>0.33</td>\n",
              "      <td>68.402973</td>\n",
              "    </tr>\n",
              "    <tr>\n",
              "      <th>2</th>\n",
              "      <td>All-Bran</td>\n",
              "      <td>K</td>\n",
              "      <td>C</td>\n",
              "      <td>70</td>\n",
              "      <td>4</td>\n",
              "      <td>1</td>\n",
              "      <td>260</td>\n",
              "      <td>9.0</td>\n",
              "      <td>7.0</td>\n",
              "      <td>5</td>\n",
              "      <td>320</td>\n",
              "      <td>25</td>\n",
              "      <td>3</td>\n",
              "      <td>1.00</td>\n",
              "      <td>0.33</td>\n",
              "      <td>59.425505</td>\n",
              "    </tr>\n",
              "    <tr>\n",
              "      <th>...</th>\n",
              "      <td>...</td>\n",
              "      <td>...</td>\n",
              "      <td>...</td>\n",
              "      <td>...</td>\n",
              "      <td>...</td>\n",
              "      <td>...</td>\n",
              "      <td>...</td>\n",
              "      <td>...</td>\n",
              "      <td>...</td>\n",
              "      <td>...</td>\n",
              "      <td>...</td>\n",
              "      <td>...</td>\n",
              "      <td>...</td>\n",
              "      <td>...</td>\n",
              "      <td>...</td>\n",
              "      <td>...</td>\n",
              "    </tr>\n",
              "    <tr>\n",
              "      <th>49</th>\n",
              "      <td>Nutri-Grain Almond-Raisin</td>\n",
              "      <td>K</td>\n",
              "      <td>C</td>\n",
              "      <td>140</td>\n",
              "      <td>3</td>\n",
              "      <td>2</td>\n",
              "      <td>220</td>\n",
              "      <td>3.0</td>\n",
              "      <td>21.0</td>\n",
              "      <td>7</td>\n",
              "      <td>130</td>\n",
              "      <td>25</td>\n",
              "      <td>3</td>\n",
              "      <td>1.33</td>\n",
              "      <td>0.67</td>\n",
              "      <td>40.692320</td>\n",
              "    </tr>\n",
              "    <tr>\n",
              "      <th>39</th>\n",
              "      <td>Just Right Fruit &amp; Nut</td>\n",
              "      <td>K</td>\n",
              "      <td>C</td>\n",
              "      <td>140</td>\n",
              "      <td>3</td>\n",
              "      <td>1</td>\n",
              "      <td>170</td>\n",
              "      <td>2.0</td>\n",
              "      <td>20.0</td>\n",
              "      <td>9</td>\n",
              "      <td>95</td>\n",
              "      <td>100</td>\n",
              "      <td>3</td>\n",
              "      <td>1.30</td>\n",
              "      <td>0.75</td>\n",
              "      <td>36.471512</td>\n",
              "    </tr>\n",
              "    <tr>\n",
              "      <th>44</th>\n",
              "      <td>Muesli Raisins; Dates; &amp; Almonds</td>\n",
              "      <td>R</td>\n",
              "      <td>C</td>\n",
              "      <td>150</td>\n",
              "      <td>4</td>\n",
              "      <td>3</td>\n",
              "      <td>95</td>\n",
              "      <td>3.0</td>\n",
              "      <td>16.0</td>\n",
              "      <td>11</td>\n",
              "      <td>170</td>\n",
              "      <td>25</td>\n",
              "      <td>3</td>\n",
              "      <td>1.00</td>\n",
              "      <td>1.00</td>\n",
              "      <td>37.136863</td>\n",
              "    </tr>\n",
              "    <tr>\n",
              "      <th>45</th>\n",
              "      <td>Muesli Raisins; Peaches; &amp; Pecans</td>\n",
              "      <td>R</td>\n",
              "      <td>C</td>\n",
              "      <td>150</td>\n",
              "      <td>4</td>\n",
              "      <td>3</td>\n",
              "      <td>150</td>\n",
              "      <td>3.0</td>\n",
              "      <td>16.0</td>\n",
              "      <td>11</td>\n",
              "      <td>170</td>\n",
              "      <td>25</td>\n",
              "      <td>3</td>\n",
              "      <td>1.00</td>\n",
              "      <td>1.00</td>\n",
              "      <td>34.139765</td>\n",
              "    </tr>\n",
              "    <tr>\n",
              "      <th>46</th>\n",
              "      <td>Mueslix Crispy Blend</td>\n",
              "      <td>K</td>\n",
              "      <td>C</td>\n",
              "      <td>160</td>\n",
              "      <td>3</td>\n",
              "      <td>2</td>\n",
              "      <td>150</td>\n",
              "      <td>3.0</td>\n",
              "      <td>17.0</td>\n",
              "      <td>13</td>\n",
              "      <td>160</td>\n",
              "      <td>25</td>\n",
              "      <td>3</td>\n",
              "      <td>1.50</td>\n",
              "      <td>0.67</td>\n",
              "      <td>30.313351</td>\n",
              "    </tr>\n",
              "  </tbody>\n",
              "</table>\n",
              "<p>77 rows × 16 columns</p>\n",
              "</div>"
            ],
            "text/plain": [
              "                                 name mfr type  ...  weight  cups     rating\n",
              "3           All-Bran with Extra Fiber   K    C  ...    1.00  0.50  93.704912\n",
              "54                        Puffed Rice   Q    C  ...    0.50  1.00  60.756112\n",
              "55                       Puffed Wheat   Q    C  ...    0.50  1.00  63.005645\n",
              "0                           100% Bran   N    C  ...    1.00  0.33  68.402973\n",
              "2                            All-Bran   K    C  ...    1.00  0.33  59.425505\n",
              "..                                ...  ..  ...  ...     ...   ...        ...\n",
              "49          Nutri-Grain Almond-Raisin   K    C  ...    1.33  0.67  40.692320\n",
              "39             Just Right Fruit & Nut   K    C  ...    1.30  0.75  36.471512\n",
              "44   Muesli Raisins; Dates; & Almonds   R    C  ...    1.00  1.00  37.136863\n",
              "45  Muesli Raisins; Peaches; & Pecans   R    C  ...    1.00  1.00  34.139765\n",
              "46               Mueslix Crispy Blend   K    C  ...    1.50  0.67  30.313351\n",
              "\n",
              "[77 rows x 16 columns]"
            ]
          },
          "metadata": {
            "tags": []
          },
          "execution_count": 15
        }
      ]
    },
    {
      "cell_type": "markdown",
      "metadata": {
        "id": "jMmPxKTXO4y7"
      },
      "source": [
        "# Grouping and Aggregating the Data\n",
        "\n",
        "Sometimes we want to look at our data at a different granularity. Pandas allows us to do this by grouping on columns.\n",
        "\n",
        "For example to look at the average values for cold vs hot cereal: \\\n",
        "```\n",
        "hot_cold_df = cereal_df.groupby([\"type\"]).mean().reset_index()\n",
        "```\n",
        "\n",
        "---\n",
        "\n",
        "Q: Can you create a dataframe that is grouped by date?\\\n",
        "Q: What is the shape/dimensions of the new data frame? Does this make sense based off of the number of recorded days of data? \n",
        "Q: What does this new data frame represent?\n",
        "\n",
        "You can also print off the head of this new data frame if you want to get a better sense of what it includes.\n",
        "\n"
      ]
    },
    {
      "cell_type": "markdown",
      "metadata": {
        "id": "rj7ogiBaO4y8"
      },
      "source": [
        "### Q: What are the average cereal measurements per manufacturer of cereal (mfr) ?"
      ]
    },
    {
      "cell_type": "code",
      "metadata": {
        "id": "6a_E_ltgO4y9",
        "outputId": "48a1ad8f-3cc5-4d61-d3db-a94c4f3515fa",
        "colab": {
          "base_uri": "https://localhost:8080/",
          "height": 286
        }
      },
      "source": [
        "mfravg_df = df.groupby([\"mfr\"]).mean().reset_index()\n",
        "mfravg_df "
      ],
      "execution_count": 16,
      "outputs": [
        {
          "output_type": "execute_result",
          "data": {
            "text/html": [
              "<div>\n",
              "<style scoped>\n",
              "    .dataframe tbody tr th:only-of-type {\n",
              "        vertical-align: middle;\n",
              "    }\n",
              "\n",
              "    .dataframe tbody tr th {\n",
              "        vertical-align: top;\n",
              "    }\n",
              "\n",
              "    .dataframe thead th {\n",
              "        text-align: right;\n",
              "    }\n",
              "</style>\n",
              "<table border=\"1\" class=\"dataframe\">\n",
              "  <thead>\n",
              "    <tr style=\"text-align: right;\">\n",
              "      <th></th>\n",
              "      <th>mfr</th>\n",
              "      <th>calories</th>\n",
              "      <th>protein</th>\n",
              "      <th>fat</th>\n",
              "      <th>sodium</th>\n",
              "      <th>fiber</th>\n",
              "      <th>carbo</th>\n",
              "      <th>sugars</th>\n",
              "      <th>potass</th>\n",
              "      <th>vitamins</th>\n",
              "      <th>shelf</th>\n",
              "      <th>weight</th>\n",
              "      <th>cups</th>\n",
              "      <th>rating</th>\n",
              "    </tr>\n",
              "  </thead>\n",
              "  <tbody>\n",
              "    <tr>\n",
              "      <th>0</th>\n",
              "      <td>A</td>\n",
              "      <td>100.000000</td>\n",
              "      <td>4.000000</td>\n",
              "      <td>1.000000</td>\n",
              "      <td>0.000000</td>\n",
              "      <td>0.000000</td>\n",
              "      <td>16.000000</td>\n",
              "      <td>3.000000</td>\n",
              "      <td>95.000000</td>\n",
              "      <td>25.000000</td>\n",
              "      <td>2.000000</td>\n",
              "      <td>1.000000</td>\n",
              "      <td>1.000000</td>\n",
              "      <td>54.850917</td>\n",
              "    </tr>\n",
              "    <tr>\n",
              "      <th>1</th>\n",
              "      <td>G</td>\n",
              "      <td>111.363636</td>\n",
              "      <td>2.318182</td>\n",
              "      <td>1.363636</td>\n",
              "      <td>200.454545</td>\n",
              "      <td>1.272727</td>\n",
              "      <td>14.727273</td>\n",
              "      <td>7.954545</td>\n",
              "      <td>85.227273</td>\n",
              "      <td>35.227273</td>\n",
              "      <td>2.136364</td>\n",
              "      <td>1.049091</td>\n",
              "      <td>0.875000</td>\n",
              "      <td>34.485852</td>\n",
              "    </tr>\n",
              "    <tr>\n",
              "      <th>2</th>\n",
              "      <td>K</td>\n",
              "      <td>108.695652</td>\n",
              "      <td>2.652174</td>\n",
              "      <td>0.608696</td>\n",
              "      <td>174.782609</td>\n",
              "      <td>2.739130</td>\n",
              "      <td>15.130435</td>\n",
              "      <td>7.565217</td>\n",
              "      <td>103.043478</td>\n",
              "      <td>34.782609</td>\n",
              "      <td>2.347826</td>\n",
              "      <td>1.077826</td>\n",
              "      <td>0.796087</td>\n",
              "      <td>44.038462</td>\n",
              "    </tr>\n",
              "    <tr>\n",
              "      <th>3</th>\n",
              "      <td>N</td>\n",
              "      <td>86.666667</td>\n",
              "      <td>2.833333</td>\n",
              "      <td>0.166667</td>\n",
              "      <td>37.500000</td>\n",
              "      <td>4.000000</td>\n",
              "      <td>16.000000</td>\n",
              "      <td>1.833333</td>\n",
              "      <td>120.666667</td>\n",
              "      <td>8.333333</td>\n",
              "      <td>1.666667</td>\n",
              "      <td>0.971667</td>\n",
              "      <td>0.778333</td>\n",
              "      <td>67.968567</td>\n",
              "    </tr>\n",
              "    <tr>\n",
              "      <th>4</th>\n",
              "      <td>P</td>\n",
              "      <td>108.888889</td>\n",
              "      <td>2.444444</td>\n",
              "      <td>0.888889</td>\n",
              "      <td>146.111111</td>\n",
              "      <td>2.777778</td>\n",
              "      <td>13.222222</td>\n",
              "      <td>8.777778</td>\n",
              "      <td>113.888889</td>\n",
              "      <td>25.000000</td>\n",
              "      <td>2.444444</td>\n",
              "      <td>1.064444</td>\n",
              "      <td>0.714444</td>\n",
              "      <td>41.705744</td>\n",
              "    </tr>\n",
              "    <tr>\n",
              "      <th>5</th>\n",
              "      <td>Q</td>\n",
              "      <td>95.000000</td>\n",
              "      <td>2.625000</td>\n",
              "      <td>1.750000</td>\n",
              "      <td>92.500000</td>\n",
              "      <td>1.337500</td>\n",
              "      <td>10.000000</td>\n",
              "      <td>5.250000</td>\n",
              "      <td>74.375000</td>\n",
              "      <td>12.500000</td>\n",
              "      <td>2.375000</td>\n",
              "      <td>0.875000</td>\n",
              "      <td>0.823750</td>\n",
              "      <td>42.915990</td>\n",
              "    </tr>\n",
              "    <tr>\n",
              "      <th>6</th>\n",
              "      <td>R</td>\n",
              "      <td>115.000000</td>\n",
              "      <td>2.500000</td>\n",
              "      <td>1.250000</td>\n",
              "      <td>198.125000</td>\n",
              "      <td>1.875000</td>\n",
              "      <td>17.625000</td>\n",
              "      <td>6.125000</td>\n",
              "      <td>89.250000</td>\n",
              "      <td>25.000000</td>\n",
              "      <td>2.000000</td>\n",
              "      <td>1.000000</td>\n",
              "      <td>0.871250</td>\n",
              "      <td>41.542997</td>\n",
              "    </tr>\n",
              "  </tbody>\n",
              "</table>\n",
              "</div>"
            ],
            "text/plain": [
              "  mfr    calories   protein       fat  ...     shelf    weight      cups     rating\n",
              "0   A  100.000000  4.000000  1.000000  ...  2.000000  1.000000  1.000000  54.850917\n",
              "1   G  111.363636  2.318182  1.363636  ...  2.136364  1.049091  0.875000  34.485852\n",
              "2   K  108.695652  2.652174  0.608696  ...  2.347826  1.077826  0.796087  44.038462\n",
              "3   N   86.666667  2.833333  0.166667  ...  1.666667  0.971667  0.778333  67.968567\n",
              "4   P  108.888889  2.444444  0.888889  ...  2.444444  1.064444  0.714444  41.705744\n",
              "5   Q   95.000000  2.625000  1.750000  ...  2.375000  0.875000  0.823750  42.915990\n",
              "6   R  115.000000  2.500000  1.250000  ...  2.000000  1.000000  0.871250  41.542997\n",
              "\n",
              "[7 rows x 14 columns]"
            ]
          },
          "metadata": {
            "tags": []
          },
          "execution_count": 16
        }
      ]
    }
  ]
}
