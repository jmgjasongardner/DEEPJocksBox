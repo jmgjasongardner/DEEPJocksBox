{
  "nbformat": 4,
  "nbformat_minor": 0,
  "metadata": {
    "colab": {
      "name": "Jocks' Box.ipynb",
      "provenance": [],
      "collapsed_sections": [],
      "toc_visible": true,
      "include_colab_link": true
    },
    "kernelspec": {
      "name": "python3",
      "display_name": "Python 3"
    }
  },
  "cells": [
    {
      "cell_type": "markdown",
      "metadata": {
        "id": "view-in-github",
        "colab_type": "text"
      },
      "source": [
        "<a href=\"https://colab.research.google.com/github/jmgjasongardner/DEEPJocksBox/blob/master/Jocks'_Box.ipynb\" target=\"_parent\"><img src=\"https://colab.research.google.com/assets/colab-badge.svg\" alt=\"Open In Colab\"/></a>"
      ]
    },
    {
      "cell_type": "markdown",
      "metadata": {
        "id": "o61Uj6I75mRl"
      },
      "source": [
        "# Jocks' Box\n",
        "\n",
        "**Organization:** Rice Data Science Club, DEEP Project Team\n",
        "\n",
        "**Mentor:** Jason Gardner\n",
        "\n",
        "**Mentee:** Aaron Chang, Kai Hung, Ankit Patel, Nathan Powell, Sanjay Rajasekhar, Daniel Sedano, Luke Stancil, Brian Xu, Jeffrey Zhong\n",
        "\n",
        "**Data Set:** NBA Enhanced Box Score and Standings (2012-2018 Team Box Scores) https://www.kaggle.com/pablote/nba-enhanced-stats "
      ]
    },
    {
      "cell_type": "markdown",
      "metadata": {
        "id": "aajmX6fH6rJV"
      },
      "source": [
        "**Objective:** \n",
        "1. Identify variables that heavily influence the winrate of a game in a season\n",
        "2. Observe whether the same variables remain consistently impactful over the past few seasons\n",
        "3. Predict winrate for any given team within a season based on their data prior to February\n",
        "4. Reason through why our predictions are/are not accurate. \n",
        "\n",
        "**How:** We need to split the dataset into testing and training data for each season. The split date will be the trade deadlines of the respective seasons. We will then use the training data to craft a multivariate linear prediction model for the NBA teams' separated by NBA seasons based on various variables. Then, we will predict win rates with our testing data and the model we have created.\n",
        "\n",
        "Our explanatory variables are as follows: \n",
        "1. *teamEDiff*: \n",
        "2. *teamASST%*: assisted field goal percentage by team\n",
        "3. *team2P%*: two point percentage made by team\n",
        "4. *team3P%*: three pointer percentage made by team\n",
        "5. *teamFT%*: free throw percentage made by team\n",
        "6. *opptTO%*: turnover percentage by opponent\n",
        "7. *pace*: pace per game duration (analogous to possessions)\n",
        "9. *Q4Diff*: the difference in team scores by the fourth quarter\n",
        "\n",
        "\n",
        "Our response variable, *win_rate*, will be the win rate data of each team. \n",
        "\n",
        "**Technology:** Python, Jupyter Notebook"
      ]
    },
    {
      "cell_type": "markdown",
      "metadata": {
        "id": "wbqnf0r46JW9"
      },
      "source": [
        "# Libraries & Data"
      ]
    },
    {
      "cell_type": "markdown",
      "metadata": {
        "id": "J0RxciKY_4qA"
      },
      "source": [
        "We will be using the python libraries seaborn, pandas, sci-kit learn, and matplotlib in our analysis. "
      ]
    },
    {
      "cell_type": "code",
      "metadata": {
        "id": "GprVUCwS5lYw"
      },
      "source": [
        "import seaborn as sns\n",
        "import pandas as pd\n",
        "import matplotlib.pyplot as plt\n",
        "from sklearn.linear_model import LinearRegression\n",
        "from sklearn import metrics"
      ],
      "execution_count": null,
      "outputs": []
    },
    {
      "cell_type": "markdown",
      "metadata": {
        "id": "lXGxQoQsAEwA"
      },
      "source": [
        "Let's import our data and take a look at it! "
      ]
    },
    {
      "cell_type": "code",
      "metadata": {
        "id": "RX52HFF15_t_"
      },
      "source": [
        "nba_df = pd.read_csv(\"/2012-18_teamBoxScore.csv\")"
      ],
      "execution_count": null,
      "outputs": []
    },
    {
      "cell_type": "code",
      "metadata": {
        "id": "k9Z5uBTz6HZE",
        "outputId": "8f32ae0e-8e82-4543-a11e-09e84fd822be",
        "colab": {
          "base_uri": "https://localhost:8080/",
          "height": 338
        }
      },
      "source": [
        "nba_df.head()"
      ],
      "execution_count": null,
      "outputs": [
        {
          "output_type": "execute_result",
          "data": {
            "text/html": [
              "<div>\n",
              "<style scoped>\n",
              "    .dataframe tbody tr th:only-of-type {\n",
              "        vertical-align: middle;\n",
              "    }\n",
              "\n",
              "    .dataframe tbody tr th {\n",
              "        vertical-align: top;\n",
              "    }\n",
              "\n",
              "    .dataframe thead th {\n",
              "        text-align: right;\n",
              "    }\n",
              "</style>\n",
              "<table border=\"1\" class=\"dataframe\">\n",
              "  <thead>\n",
              "    <tr style=\"text-align: right;\">\n",
              "      <th></th>\n",
              "      <th>gmDate</th>\n",
              "      <th>gmTime</th>\n",
              "      <th>seasTyp</th>\n",
              "      <th>offLNm1</th>\n",
              "      <th>offFNm1</th>\n",
              "      <th>offLNm2</th>\n",
              "      <th>offFNm2</th>\n",
              "      <th>offLNm3</th>\n",
              "      <th>offFNm3</th>\n",
              "      <th>teamAbbr</th>\n",
              "      <th>teamConf</th>\n",
              "      <th>teamDiv</th>\n",
              "      <th>teamLoc</th>\n",
              "      <th>teamRslt</th>\n",
              "      <th>teamMin</th>\n",
              "      <th>teamDayOff</th>\n",
              "      <th>teamPTS</th>\n",
              "      <th>teamAST</th>\n",
              "      <th>teamTO</th>\n",
              "      <th>teamSTL</th>\n",
              "      <th>teamBLK</th>\n",
              "      <th>teamPF</th>\n",
              "      <th>teamFGA</th>\n",
              "      <th>teamFGM</th>\n",
              "      <th>teamFG%</th>\n",
              "      <th>team2PA</th>\n",
              "      <th>team2PM</th>\n",
              "      <th>team2P%</th>\n",
              "      <th>team3PA</th>\n",
              "      <th>team3PM</th>\n",
              "      <th>team3P%</th>\n",
              "      <th>teamFTA</th>\n",
              "      <th>teamFTM</th>\n",
              "      <th>teamFT%</th>\n",
              "      <th>teamORB</th>\n",
              "      <th>teamDRB</th>\n",
              "      <th>teamTRB</th>\n",
              "      <th>teamPTS1</th>\n",
              "      <th>teamPTS2</th>\n",
              "      <th>teamPTS3</th>\n",
              "      <th>...</th>\n",
              "      <th>oppt2P%</th>\n",
              "      <th>oppt3PA</th>\n",
              "      <th>oppt3PM</th>\n",
              "      <th>oppt3P%</th>\n",
              "      <th>opptFTA</th>\n",
              "      <th>opptFTM</th>\n",
              "      <th>opptFT%</th>\n",
              "      <th>opptORB</th>\n",
              "      <th>opptDRB</th>\n",
              "      <th>opptTRB</th>\n",
              "      <th>opptPTS1</th>\n",
              "      <th>opptPTS2</th>\n",
              "      <th>opptPTS3</th>\n",
              "      <th>opptPTS4</th>\n",
              "      <th>opptPTS5</th>\n",
              "      <th>opptPTS6</th>\n",
              "      <th>opptPTS7</th>\n",
              "      <th>opptPTS8</th>\n",
              "      <th>opptTREB%</th>\n",
              "      <th>opptASST%</th>\n",
              "      <th>opptTS%</th>\n",
              "      <th>opptEFG%</th>\n",
              "      <th>opptOREB%</th>\n",
              "      <th>opptDREB%</th>\n",
              "      <th>opptTO%</th>\n",
              "      <th>opptSTL%</th>\n",
              "      <th>opptBLK%</th>\n",
              "      <th>opptBLKR</th>\n",
              "      <th>opptPPS</th>\n",
              "      <th>opptFIC</th>\n",
              "      <th>opptFIC40</th>\n",
              "      <th>opptOrtg</th>\n",
              "      <th>opptDrtg</th>\n",
              "      <th>opptEDiff</th>\n",
              "      <th>opptPlay%</th>\n",
              "      <th>opptAR</th>\n",
              "      <th>opptAST/TO</th>\n",
              "      <th>opptSTL/TO</th>\n",
              "      <th>poss</th>\n",
              "      <th>pace</th>\n",
              "    </tr>\n",
              "  </thead>\n",
              "  <tbody>\n",
              "    <tr>\n",
              "      <th>0</th>\n",
              "      <td>2012-10-30</td>\n",
              "      <td>19:00</td>\n",
              "      <td>Regular</td>\n",
              "      <td>Brothers</td>\n",
              "      <td>Tony</td>\n",
              "      <td>Smith</td>\n",
              "      <td>Michael</td>\n",
              "      <td>Workman</td>\n",
              "      <td>Haywoode</td>\n",
              "      <td>WAS</td>\n",
              "      <td>East</td>\n",
              "      <td>Southeast</td>\n",
              "      <td>Away</td>\n",
              "      <td>Loss</td>\n",
              "      <td>240</td>\n",
              "      <td>0</td>\n",
              "      <td>84</td>\n",
              "      <td>26</td>\n",
              "      <td>13</td>\n",
              "      <td>11</td>\n",
              "      <td>10</td>\n",
              "      <td>19</td>\n",
              "      <td>90</td>\n",
              "      <td>32</td>\n",
              "      <td>0.3556</td>\n",
              "      <td>58</td>\n",
              "      <td>24</td>\n",
              "      <td>0.4138</td>\n",
              "      <td>32</td>\n",
              "      <td>8</td>\n",
              "      <td>0.2500</td>\n",
              "      <td>20</td>\n",
              "      <td>12</td>\n",
              "      <td>0.6000</td>\n",
              "      <td>18</td>\n",
              "      <td>21</td>\n",
              "      <td>39</td>\n",
              "      <td>24</td>\n",
              "      <td>15</td>\n",
              "      <td>23</td>\n",
              "      <td>...</td>\n",
              "      <td>0.4915</td>\n",
              "      <td>20</td>\n",
              "      <td>7</td>\n",
              "      <td>0.3500</td>\n",
              "      <td>22</td>\n",
              "      <td>15</td>\n",
              "      <td>0.6818</td>\n",
              "      <td>18</td>\n",
              "      <td>36</td>\n",
              "      <td>54</td>\n",
              "      <td>31</td>\n",
              "      <td>19</td>\n",
              "      <td>24</td>\n",
              "      <td>20</td>\n",
              "      <td>0</td>\n",
              "      <td>0</td>\n",
              "      <td>0</td>\n",
              "      <td>0</td>\n",
              "      <td>58.0645</td>\n",
              "      <td>61.1111</td>\n",
              "      <td>0.5300</td>\n",
              "      <td>0.5000</td>\n",
              "      <td>33.3333</td>\n",
              "      <td>66.6667</td>\n",
              "      <td>19.1466</td>\n",
              "      <td>7.8704</td>\n",
              "      <td>5.6217</td>\n",
              "      <td>8.4746</td>\n",
              "      <td>1.1899</td>\n",
              "      <td>74.000</td>\n",
              "      <td>61.6667</td>\n",
              "      <td>105.6882</td>\n",
              "      <td>94.4447</td>\n",
              "      <td>11.2435</td>\n",
              "      <td>0.4390</td>\n",
              "      <td>16.7072</td>\n",
              "      <td>1.0476</td>\n",
              "      <td>33.3333</td>\n",
              "      <td>88.9409</td>\n",
              "      <td>88.9409</td>\n",
              "    </tr>\n",
              "    <tr>\n",
              "      <th>1</th>\n",
              "      <td>2012-10-30</td>\n",
              "      <td>19:00</td>\n",
              "      <td>Regular</td>\n",
              "      <td>Brothers</td>\n",
              "      <td>Tony</td>\n",
              "      <td>Smith</td>\n",
              "      <td>Michael</td>\n",
              "      <td>Workman</td>\n",
              "      <td>Haywoode</td>\n",
              "      <td>CLE</td>\n",
              "      <td>East</td>\n",
              "      <td>Central</td>\n",
              "      <td>Home</td>\n",
              "      <td>Win</td>\n",
              "      <td>240</td>\n",
              "      <td>0</td>\n",
              "      <td>94</td>\n",
              "      <td>22</td>\n",
              "      <td>21</td>\n",
              "      <td>7</td>\n",
              "      <td>5</td>\n",
              "      <td>21</td>\n",
              "      <td>79</td>\n",
              "      <td>36</td>\n",
              "      <td>0.4557</td>\n",
              "      <td>59</td>\n",
              "      <td>29</td>\n",
              "      <td>0.4915</td>\n",
              "      <td>20</td>\n",
              "      <td>7</td>\n",
              "      <td>0.3500</td>\n",
              "      <td>22</td>\n",
              "      <td>15</td>\n",
              "      <td>0.6818</td>\n",
              "      <td>18</td>\n",
              "      <td>36</td>\n",
              "      <td>54</td>\n",
              "      <td>31</td>\n",
              "      <td>19</td>\n",
              "      <td>24</td>\n",
              "      <td>...</td>\n",
              "      <td>0.4138</td>\n",
              "      <td>32</td>\n",
              "      <td>8</td>\n",
              "      <td>0.2500</td>\n",
              "      <td>20</td>\n",
              "      <td>12</td>\n",
              "      <td>0.6000</td>\n",
              "      <td>18</td>\n",
              "      <td>21</td>\n",
              "      <td>39</td>\n",
              "      <td>24</td>\n",
              "      <td>15</td>\n",
              "      <td>23</td>\n",
              "      <td>22</td>\n",
              "      <td>0</td>\n",
              "      <td>0</td>\n",
              "      <td>0</td>\n",
              "      <td>0</td>\n",
              "      <td>41.9355</td>\n",
              "      <td>81.2500</td>\n",
              "      <td>0.4251</td>\n",
              "      <td>0.4000</td>\n",
              "      <td>46.1538</td>\n",
              "      <td>53.8462</td>\n",
              "      <td>11.6279</td>\n",
              "      <td>12.3678</td>\n",
              "      <td>11.2434</td>\n",
              "      <td>17.2414</td>\n",
              "      <td>0.9333</td>\n",
              "      <td>67.250</td>\n",
              "      <td>56.0417</td>\n",
              "      <td>94.4447</td>\n",
              "      <td>105.6882</td>\n",
              "      <td>-11.2435</td>\n",
              "      <td>0.3765</td>\n",
              "      <td>18.8679</td>\n",
              "      <td>2.0000</td>\n",
              "      <td>84.6154</td>\n",
              "      <td>88.9409</td>\n",
              "      <td>88.9409</td>\n",
              "    </tr>\n",
              "    <tr>\n",
              "      <th>2</th>\n",
              "      <td>2012-10-30</td>\n",
              "      <td>20:00</td>\n",
              "      <td>Regular</td>\n",
              "      <td>McCutchen</td>\n",
              "      <td>Monty</td>\n",
              "      <td>Wright</td>\n",
              "      <td>Sean</td>\n",
              "      <td>Fitzgerald</td>\n",
              "      <td>Kane</td>\n",
              "      <td>BOS</td>\n",
              "      <td>East</td>\n",
              "      <td>Atlantic</td>\n",
              "      <td>Away</td>\n",
              "      <td>Loss</td>\n",
              "      <td>240</td>\n",
              "      <td>0</td>\n",
              "      <td>107</td>\n",
              "      <td>24</td>\n",
              "      <td>16</td>\n",
              "      <td>4</td>\n",
              "      <td>2</td>\n",
              "      <td>23</td>\n",
              "      <td>75</td>\n",
              "      <td>39</td>\n",
              "      <td>0.5200</td>\n",
              "      <td>62</td>\n",
              "      <td>33</td>\n",
              "      <td>0.5323</td>\n",
              "      <td>13</td>\n",
              "      <td>6</td>\n",
              "      <td>0.4615</td>\n",
              "      <td>28</td>\n",
              "      <td>23</td>\n",
              "      <td>0.8214</td>\n",
              "      <td>7</td>\n",
              "      <td>34</td>\n",
              "      <td>41</td>\n",
              "      <td>25</td>\n",
              "      <td>29</td>\n",
              "      <td>22</td>\n",
              "      <td>...</td>\n",
              "      <td>0.5556</td>\n",
              "      <td>16</td>\n",
              "      <td>8</td>\n",
              "      <td>0.5000</td>\n",
              "      <td>32</td>\n",
              "      <td>26</td>\n",
              "      <td>0.8125</td>\n",
              "      <td>5</td>\n",
              "      <td>31</td>\n",
              "      <td>36</td>\n",
              "      <td>31</td>\n",
              "      <td>31</td>\n",
              "      <td>31</td>\n",
              "      <td>27</td>\n",
              "      <td>0</td>\n",
              "      <td>0</td>\n",
              "      <td>0</td>\n",
              "      <td>0</td>\n",
              "      <td>46.7532</td>\n",
              "      <td>58.1395</td>\n",
              "      <td>0.6446</td>\n",
              "      <td>0.5949</td>\n",
              "      <td>13.8889</td>\n",
              "      <td>86.1111</td>\n",
              "      <td>7.9145</td>\n",
              "      <td>8.4225</td>\n",
              "      <td>5.2641</td>\n",
              "      <td>7.9365</td>\n",
              "      <td>1.5190</td>\n",
              "      <td>97.000</td>\n",
              "      <td>80.8333</td>\n",
              "      <td>126.3381</td>\n",
              "      <td>112.6515</td>\n",
              "      <td>13.6866</td>\n",
              "      <td>0.5244</td>\n",
              "      <td>19.8287</td>\n",
              "      <td>3.1250</td>\n",
              "      <td>100.0000</td>\n",
              "      <td>94.9832</td>\n",
              "      <td>94.9832</td>\n",
              "    </tr>\n",
              "    <tr>\n",
              "      <th>3</th>\n",
              "      <td>2012-10-30</td>\n",
              "      <td>20:00</td>\n",
              "      <td>Regular</td>\n",
              "      <td>McCutchen</td>\n",
              "      <td>Monty</td>\n",
              "      <td>Wright</td>\n",
              "      <td>Sean</td>\n",
              "      <td>Fitzgerald</td>\n",
              "      <td>Kane</td>\n",
              "      <td>MIA</td>\n",
              "      <td>East</td>\n",
              "      <td>Southeast</td>\n",
              "      <td>Home</td>\n",
              "      <td>Win</td>\n",
              "      <td>240</td>\n",
              "      <td>0</td>\n",
              "      <td>120</td>\n",
              "      <td>25</td>\n",
              "      <td>8</td>\n",
              "      <td>8</td>\n",
              "      <td>5</td>\n",
              "      <td>20</td>\n",
              "      <td>79</td>\n",
              "      <td>43</td>\n",
              "      <td>0.5443</td>\n",
              "      <td>63</td>\n",
              "      <td>35</td>\n",
              "      <td>0.5556</td>\n",
              "      <td>16</td>\n",
              "      <td>8</td>\n",
              "      <td>0.5000</td>\n",
              "      <td>32</td>\n",
              "      <td>26</td>\n",
              "      <td>0.8125</td>\n",
              "      <td>5</td>\n",
              "      <td>31</td>\n",
              "      <td>36</td>\n",
              "      <td>31</td>\n",
              "      <td>31</td>\n",
              "      <td>31</td>\n",
              "      <td>...</td>\n",
              "      <td>0.5323</td>\n",
              "      <td>13</td>\n",
              "      <td>6</td>\n",
              "      <td>0.4615</td>\n",
              "      <td>28</td>\n",
              "      <td>23</td>\n",
              "      <td>0.8214</td>\n",
              "      <td>7</td>\n",
              "      <td>34</td>\n",
              "      <td>41</td>\n",
              "      <td>25</td>\n",
              "      <td>29</td>\n",
              "      <td>22</td>\n",
              "      <td>31</td>\n",
              "      <td>0</td>\n",
              "      <td>0</td>\n",
              "      <td>0</td>\n",
              "      <td>0</td>\n",
              "      <td>53.2468</td>\n",
              "      <td>61.5385</td>\n",
              "      <td>0.6127</td>\n",
              "      <td>0.5600</td>\n",
              "      <td>17.0732</td>\n",
              "      <td>82.9268</td>\n",
              "      <td>15.4859</td>\n",
              "      <td>4.2113</td>\n",
              "      <td>2.1056</td>\n",
              "      <td>3.2258</td>\n",
              "      <td>1.4267</td>\n",
              "      <td>75.250</td>\n",
              "      <td>62.7083</td>\n",
              "      <td>112.6515</td>\n",
              "      <td>126.3381</td>\n",
              "      <td>-13.6866</td>\n",
              "      <td>0.4643</td>\n",
              "      <td>18.8501</td>\n",
              "      <td>1.5000</td>\n",
              "      <td>25.0000</td>\n",
              "      <td>94.9832</td>\n",
              "      <td>94.9832</td>\n",
              "    </tr>\n",
              "    <tr>\n",
              "      <th>4</th>\n",
              "      <td>2012-10-30</td>\n",
              "      <td>22:30</td>\n",
              "      <td>Regular</td>\n",
              "      <td>Foster</td>\n",
              "      <td>Scott</td>\n",
              "      <td>Zielinski</td>\n",
              "      <td>Gary</td>\n",
              "      <td>Dalen</td>\n",
              "      <td>Eric</td>\n",
              "      <td>DAL</td>\n",
              "      <td>West</td>\n",
              "      <td>Southwest</td>\n",
              "      <td>Away</td>\n",
              "      <td>Win</td>\n",
              "      <td>240</td>\n",
              "      <td>0</td>\n",
              "      <td>99</td>\n",
              "      <td>22</td>\n",
              "      <td>12</td>\n",
              "      <td>9</td>\n",
              "      <td>5</td>\n",
              "      <td>25</td>\n",
              "      <td>85</td>\n",
              "      <td>40</td>\n",
              "      <td>0.4706</td>\n",
              "      <td>70</td>\n",
              "      <td>35</td>\n",
              "      <td>0.5000</td>\n",
              "      <td>15</td>\n",
              "      <td>5</td>\n",
              "      <td>0.3333</td>\n",
              "      <td>18</td>\n",
              "      <td>14</td>\n",
              "      <td>0.7778</td>\n",
              "      <td>9</td>\n",
              "      <td>31</td>\n",
              "      <td>40</td>\n",
              "      <td>25</td>\n",
              "      <td>23</td>\n",
              "      <td>26</td>\n",
              "      <td>...</td>\n",
              "      <td>0.5469</td>\n",
              "      <td>13</td>\n",
              "      <td>3</td>\n",
              "      <td>0.2308</td>\n",
              "      <td>31</td>\n",
              "      <td>12</td>\n",
              "      <td>0.3871</td>\n",
              "      <td>15</td>\n",
              "      <td>31</td>\n",
              "      <td>46</td>\n",
              "      <td>29</td>\n",
              "      <td>17</td>\n",
              "      <td>20</td>\n",
              "      <td>25</td>\n",
              "      <td>0</td>\n",
              "      <td>0</td>\n",
              "      <td>0</td>\n",
              "      <td>0</td>\n",
              "      <td>53.4884</td>\n",
              "      <td>63.1579</td>\n",
              "      <td>0.5020</td>\n",
              "      <td>0.5130</td>\n",
              "      <td>32.6087</td>\n",
              "      <td>67.3913</td>\n",
              "      <td>13.3792</td>\n",
              "      <td>6.5517</td>\n",
              "      <td>5.4598</td>\n",
              "      <td>7.8125</td>\n",
              "      <td>1.1818</td>\n",
              "      <td>70.375</td>\n",
              "      <td>58.6458</td>\n",
              "      <td>99.3678</td>\n",
              "      <td>108.1034</td>\n",
              "      <td>-8.7356</td>\n",
              "      <td>0.5000</td>\n",
              "      <td>18.6567</td>\n",
              "      <td>1.7143</td>\n",
              "      <td>42.8571</td>\n",
              "      <td>91.5790</td>\n",
              "      <td>91.5790</td>\n",
              "    </tr>\n",
              "  </tbody>\n",
              "</table>\n",
              "<p>5 rows × 123 columns</p>\n",
              "</div>"
            ],
            "text/plain": [
              "       gmDate gmTime  seasTyp  ... opptSTL/TO     poss     pace\n",
              "0  2012-10-30  19:00  Regular  ...    33.3333  88.9409  88.9409\n",
              "1  2012-10-30  19:00  Regular  ...    84.6154  88.9409  88.9409\n",
              "2  2012-10-30  20:00  Regular  ...   100.0000  94.9832  94.9832\n",
              "3  2012-10-30  20:00  Regular  ...    25.0000  94.9832  94.9832\n",
              "4  2012-10-30  22:30  Regular  ...    42.8571  91.5790  91.5790\n",
              "\n",
              "[5 rows x 123 columns]"
            ]
          },
          "metadata": {
            "tags": []
          },
          "execution_count": 104
        }
      ]
    },
    {
      "cell_type": "markdown",
      "metadata": {
        "id": "cLch2_GS534S"
      },
      "source": [
        "# Data Cleaning and Manipulation"
      ]
    },
    {
      "cell_type": "markdown",
      "metadata": {
        "id": "Qphq8Ta-yXjJ"
      },
      "source": [
        "Adding Season/Type Columns: \n",
        "\n",
        "We need to add the columns of season and type (training vs. testing) to help organize our data in the later parts of the analysis. "
      ]
    },
    {
      "cell_type": "code",
      "metadata": {
        "id": "ezouGbaEAuJc",
        "outputId": "1ac218d6-e762-4e13-da4f-9d9d4a276dd6",
        "colab": {
          "base_uri": "https://localhost:8080/"
        }
      },
      "source": [
        "month_list = [10, 11, 12, 1]\n",
        "seasons = []\n",
        "win_loss = []\n",
        "types = []\n",
        "\n",
        "# iterate through every game in the dataframe\n",
        "for index, row in nba_df.iterrows(): \n",
        "\n",
        "  # check if a game is before or after the trade deadline\n",
        "  month = int(row[\"gmDate\"][5:7])\n",
        "  year = int(row[\"gmDate\"][0:4])\n",
        "  if month in month_list: \n",
        "    types.append(\"Train\")\n",
        "    if month != 1: \n",
        "      seasons.append(year + 1)\n",
        "    else: \n",
        "      seasons.append(year)\n",
        "  else: \n",
        "    seasons.append(year)\n",
        "    types.append(\"Test\")\n",
        "  \n",
        "  # now, determine if each of the games resulted in a win or loss\n",
        "  if row[\"teamRslt\"] == \"Loss\": \n",
        "    win_loss.append(0)\n",
        "  elif row[\"teamRslt\"] == \"Win\": \n",
        "    win_loss.append(1)\n",
        "\n",
        "try: \n",
        "  nba_df.insert(nba_df.shape[1], \"season\", seasons)\n",
        "except: \n",
        "  nba_df.loc[:, \"season\"] = seasons\n",
        "try: \n",
        "  nba_df.insert(nba_df.shape[1], \"type\", types)\n",
        "except: \n",
        "  nba_df.loc[:, \"type\"] = types\n",
        "try: \n",
        "  nba_df.insert(nba_df.shape[1], \"win/loss\", win_loss)\n",
        "except: \n",
        "  nba_df.loc[:, \"win/loss\"] = win_loss\n",
        "\n",
        "nba_df.head\n",
        "  \n"
      ],
      "execution_count": null,
      "outputs": [
        {
          "output_type": "execute_result",
          "data": {
            "text/plain": [
              "<bound method NDFrame.head of            gmDate gmTime  seasTyp    offLNm1  ...      pace season   type win/loss\n",
              "0      2012-10-30  19:00  Regular   Brothers  ...   88.9409   2013  Train        0\n",
              "1      2012-10-30  19:00  Regular   Brothers  ...   88.9409   2013  Train        1\n",
              "2      2012-10-30  20:00  Regular  McCutchen  ...   94.9832   2013  Train        0\n",
              "3      2012-10-30  20:00  Regular  McCutchen  ...   94.9832   2013  Train        1\n",
              "4      2012-10-30  22:30  Regular     Foster  ...   91.5790   2013  Train        1\n",
              "...           ...    ...      ...        ...  ...       ...    ...    ...      ...\n",
              "14753  2018-04-11  10:30  Regular  Garretson  ...  101.7513   2018   Test        0\n",
              "14754  2018-04-11  10:30  Regular     Cutler  ...   97.2708   2018   Test        0\n",
              "14755  2018-04-11  10:30  Regular     Cutler  ...   97.6761   2018   Test        1\n",
              "14756  2018-04-11  10:30  Regular      Tiven  ...   91.6047   2018   Test        0\n",
              "14757  2018-04-11  10:30  Regular      Tiven  ...   91.9864   2018   Test        1\n",
              "\n",
              "[14758 rows x 126 columns]>"
            ]
          },
          "metadata": {
            "tags": []
          },
          "execution_count": 105
        }
      ]
    },
    {
      "cell_type": "markdown",
      "metadata": {
        "id": "EoRJ0_zU6qBQ"
      },
      "source": [
        "Now, we need to take a sub-data-frame that represents our data with only the team names, our explanatory variables, the season, the types (training vs. testing), and win/loss. "
      ]
    },
    {
      "cell_type": "code",
      "metadata": {
        "id": "zH2E-iFM0T_w",
        "outputId": "7e43dd93-aeff-4691-bcf5-6c15d039688f",
        "colab": {
          "base_uri": "https://localhost:8080/",
          "height": 326
        }
      },
      "source": [
        "predictor_stats = nba_df[[\"teamAbbr\",\"teamEDiff\",\"teamASST%\",\"team2P%\",\"team3P%\",\"teamFT%\",\"opptTO%\",\"season\",\"type\",\"pace\",\"win/loss\"]]\n",
        "predictor_stats[\"Q4Diff\"] = df[\"teamPTS4\"] - df[\"opptPTS4\"]\n",
        "predictor_stats.head()"
      ],
      "execution_count": null,
      "outputs": [
        {
          "output_type": "stream",
          "text": [
            "/usr/local/lib/python3.6/dist-packages/ipykernel_launcher.py:2: SettingWithCopyWarning: \n",
            "A value is trying to be set on a copy of a slice from a DataFrame.\n",
            "Try using .loc[row_indexer,col_indexer] = value instead\n",
            "\n",
            "See the caveats in the documentation: https://pandas.pydata.org/pandas-docs/stable/user_guide/indexing.html#returning-a-view-versus-a-copy\n",
            "  \n"
          ],
          "name": "stderr"
        },
        {
          "output_type": "execute_result",
          "data": {
            "text/html": [
              "<div>\n",
              "<style scoped>\n",
              "    .dataframe tbody tr th:only-of-type {\n",
              "        vertical-align: middle;\n",
              "    }\n",
              "\n",
              "    .dataframe tbody tr th {\n",
              "        vertical-align: top;\n",
              "    }\n",
              "\n",
              "    .dataframe thead th {\n",
              "        text-align: right;\n",
              "    }\n",
              "</style>\n",
              "<table border=\"1\" class=\"dataframe\">\n",
              "  <thead>\n",
              "    <tr style=\"text-align: right;\">\n",
              "      <th></th>\n",
              "      <th>teamAbbr</th>\n",
              "      <th>teamEDiff</th>\n",
              "      <th>teamASST%</th>\n",
              "      <th>team2P%</th>\n",
              "      <th>team3P%</th>\n",
              "      <th>teamFT%</th>\n",
              "      <th>opptTO%</th>\n",
              "      <th>season</th>\n",
              "      <th>type</th>\n",
              "      <th>pace</th>\n",
              "      <th>win/loss</th>\n",
              "      <th>Q4Diff</th>\n",
              "    </tr>\n",
              "  </thead>\n",
              "  <tbody>\n",
              "    <tr>\n",
              "      <th>0</th>\n",
              "      <td>WAS</td>\n",
              "      <td>-11.2435</td>\n",
              "      <td>81.2500</td>\n",
              "      <td>0.4138</td>\n",
              "      <td>0.2500</td>\n",
              "      <td>0.6000</td>\n",
              "      <td>19.1466</td>\n",
              "      <td>2013</td>\n",
              "      <td>Train</td>\n",
              "      <td>88.9409</td>\n",
              "      <td>0</td>\n",
              "      <td>2</td>\n",
              "    </tr>\n",
              "    <tr>\n",
              "      <th>1</th>\n",
              "      <td>CLE</td>\n",
              "      <td>11.2435</td>\n",
              "      <td>61.1111</td>\n",
              "      <td>0.4915</td>\n",
              "      <td>0.3500</td>\n",
              "      <td>0.6818</td>\n",
              "      <td>11.6279</td>\n",
              "      <td>2013</td>\n",
              "      <td>Train</td>\n",
              "      <td>88.9409</td>\n",
              "      <td>1</td>\n",
              "      <td>-2</td>\n",
              "    </tr>\n",
              "    <tr>\n",
              "      <th>2</th>\n",
              "      <td>BOS</td>\n",
              "      <td>-13.6866</td>\n",
              "      <td>61.5385</td>\n",
              "      <td>0.5323</td>\n",
              "      <td>0.4615</td>\n",
              "      <td>0.8214</td>\n",
              "      <td>7.9145</td>\n",
              "      <td>2013</td>\n",
              "      <td>Train</td>\n",
              "      <td>94.9832</td>\n",
              "      <td>0</td>\n",
              "      <td>4</td>\n",
              "    </tr>\n",
              "    <tr>\n",
              "      <th>3</th>\n",
              "      <td>MIA</td>\n",
              "      <td>13.6866</td>\n",
              "      <td>58.1395</td>\n",
              "      <td>0.5556</td>\n",
              "      <td>0.5000</td>\n",
              "      <td>0.8125</td>\n",
              "      <td>15.4859</td>\n",
              "      <td>2013</td>\n",
              "      <td>Train</td>\n",
              "      <td>94.9832</td>\n",
              "      <td>1</td>\n",
              "      <td>-4</td>\n",
              "    </tr>\n",
              "    <tr>\n",
              "      <th>4</th>\n",
              "      <td>DAL</td>\n",
              "      <td>8.7356</td>\n",
              "      <td>55.0000</td>\n",
              "      <td>0.5000</td>\n",
              "      <td>0.3333</td>\n",
              "      <td>0.7778</td>\n",
              "      <td>13.3792</td>\n",
              "      <td>2013</td>\n",
              "      <td>Train</td>\n",
              "      <td>91.5790</td>\n",
              "      <td>1</td>\n",
              "      <td>0</td>\n",
              "    </tr>\n",
              "  </tbody>\n",
              "</table>\n",
              "</div>"
            ],
            "text/plain": [
              "  teamAbbr  teamEDiff  teamASST%  team2P%  ...   type     pace  win/loss  Q4Diff\n",
              "0      WAS   -11.2435    81.2500   0.4138  ...  Train  88.9409         0       2\n",
              "1      CLE    11.2435    61.1111   0.4915  ...  Train  88.9409         1      -2\n",
              "2      BOS   -13.6866    61.5385   0.5323  ...  Train  94.9832         0       4\n",
              "3      MIA    13.6866    58.1395   0.5556  ...  Train  94.9832         1      -4\n",
              "4      DAL     8.7356    55.0000   0.5000  ...  Train  91.5790         1       0\n",
              "\n",
              "[5 rows x 12 columns]"
            ]
          },
          "metadata": {
            "tags": []
          },
          "execution_count": 106
        }
      ]
    },
    {
      "cell_type": "markdown",
      "metadata": {
        "id": "ifRMbnV0MTES"
      },
      "source": [
        "# Modeling & Predicting Win Rate"
      ]
    },
    {
      "cell_type": "markdown",
      "metadata": {
        "id": "Qq9991dNMxOc"
      },
      "source": [
        "Create a function to construct and run our machine learning for any given season. "
      ]
    },
    {
      "cell_type": "code",
      "metadata": {
        "id": "rqcpyDDz28C3"
      },
      "source": [
        "def nba_prediction (season):\n",
        "  \"\"\"\n",
        "  Creates a prediction for a given year in the NBA based on a dataframe of team names, explanatory variables, \n",
        "  game season, the type of the data (training vs. testing), and the win/loss of a game represented by 0 or 1. \n",
        "\n",
        "  Input: season - an integer that represents the season we are interested in\n",
        "\n",
        "  Output: Prints the coefficients, actual vs. expected, and mse of our linear model.\n",
        "\n",
        "  Note: predictor_stats, the dataframe of NBA stats, should be initialized outside of this function\n",
        "  \"\"\"\n",
        "  # initialize a set of training data and testing data dataframes for the current year\n",
        "  season_df = predictor_stats.loc[predictor_stats.season == season]\n",
        "  season_train = season_df.loc[season_df.type == 'Train']\n",
        "  season_test = season_df.loc[season_df.type == 'Test']\n",
        "  season_train = season_train.drop(['season', 'type'], axis = 1)\n",
        "  season_test = season_test.drop(['season', 'type'], axis = 1)\n",
        "\n",
        "  # aggregate all the data by team\n",
        "  train_by_team = pd.DataFrame(season_train.groupby(\"teamAbbr\").mean().reset_index())\n",
        "  test_by_team = pd.DataFrame(season_test.groupby(\"teamAbbr\").mean().reset_index())\n",
        "\n",
        "  # construct the regression model\n",
        "  regression_model = LinearRegression().fit(train_by_team.drop(['win/loss', 'teamAbbr'], axis = 1), train_by_team['win/loss'])\n",
        "\n",
        "  # establish a dataframe of the coefficients\n",
        "  coeff_df = pd.DataFrame(regression_model.coef_, train_by_team.drop(['win/loss', 'teamAbbr'], axis = 1).columns, columns=['Coefficient'])\n",
        "\n",
        "  prediction_win_rate = regression_model.predict(test_by_team.drop(['win/loss', 'teamAbbr'], axis = 1))\n",
        "\n",
        "  actual_vs_prediction_df = pd.DataFrame({'Team': test_by_team['teamAbbr'], 'Actual': test_by_team['win/loss'], 'Predicted': prediction_win_rate})\n",
        "  mse = metrics.mean_squared_error(100 * actual_vs_prediction_df['Actual'], 100 * actual_vs_prediction_df['Predicted'])\n",
        "\n",
        "  print(\"===============================================================\")\n",
        "  print(\"Coefficients\")\n",
        "  print(coeff_df)\n",
        "  print(\"===============================================================\")\n",
        "  print(\"Actual Win Rates vs. Predicted Win Rates for\", year)\n",
        "  print(actual_vs_prediction_df)\n",
        "  print(\"===============================================================\")\n",
        "  print(\"Mean Squared Error for\", year)\n",
        "  print(mse)\n",
        "  print(\"===============================================================\")\n",
        "  print()"
      ],
      "execution_count": null,
      "outputs": []
    },
    {
      "cell_type": "markdown",
      "metadata": {
        "id": "3bzhuW5LLpYy"
      },
      "source": [
        "Now, let's run our model for different years! "
      ]
    },
    {
      "cell_type": "markdown",
      "metadata": {
        "id": "uT7W7gcwLtHu"
      },
      "source": [
        "2013"
      ]
    },
    {
      "cell_type": "code",
      "metadata": {
        "id": "JsOhjIwJLuar",
        "outputId": "2b1833bb-6354-4ce0-a7ef-ecd6be436029",
        "colab": {
          "base_uri": "https://localhost:8080/"
        }
      },
      "source": [
        "nba_prediction(2013)"
      ],
      "execution_count": null,
      "outputs": [
        {
          "output_type": "stream",
          "text": [
            "===============================================================\n",
            "Coefficients\n",
            "           Coefficient\n",
            "teamEDiff     0.031738\n",
            "teamASST%     0.000639\n",
            "team2P%      -0.698221\n",
            "team3P%       0.490663\n",
            "teamFT%       0.144119\n",
            "opptTO%       0.011254\n",
            "pace          0.000282\n",
            "Q4Diff       -0.002533\n",
            "===============================================================\n",
            "Actual Win Rates vs. Predicted Win Rates for 2018\n",
            "   Team    Actual  Predicted\n",
            "0   ATL  0.486486   0.474059\n",
            "1   BKN  0.611111   0.568465\n",
            "2   BOS  0.527778   0.512662\n",
            "3   CHA  0.270270   0.140926\n",
            "4   CHI  0.459459   0.416607\n",
            "5   CLE  0.305556   0.360151\n",
            "6   DAL  0.611111   0.554488\n",
            "7   DEN  0.800000   0.718602\n",
            "8   DET  0.333333   0.257211\n",
            "9    GS  0.500000   0.542244\n",
            "10  HOU  0.588235   0.644551\n",
            "11  IND  0.628571   0.717781\n",
            "12  LAC  0.628571   0.634306\n",
            "13  LAL  0.694444   0.476001\n",
            "14  MEM  0.729730   0.690038\n",
            "15  MIA  0.925000   0.834264\n",
            "16  MIL  0.368421   0.429023\n",
            "17  MIN  0.350000   0.415616\n",
            "18   NO  0.333333   0.356020\n",
            "19   NY  0.666667   0.647013\n",
            "20  OKC  0.694444   0.818766\n",
            "21  ORL  0.162162   0.104104\n",
            "22  PHI  0.405405   0.395106\n",
            "23  PHO  0.250000   0.188930\n",
            "24  POR  0.270270   0.305937\n",
            "25   SA  0.617647   0.622507\n",
            "26  SAC  0.314286   0.414983\n",
            "27  TOR  0.500000   0.470070\n",
            "28  UTA  0.500000   0.545919\n",
            "29  WAS  0.473684   0.532758\n",
            "===============================================================\n",
            "Mean Squared Error for 2018\n",
            "53.1064992219043\n",
            "===============================================================\n",
            "\n"
          ],
          "name": "stdout"
        }
      ]
    },
    {
      "cell_type": "markdown",
      "metadata": {
        "id": "WM8o5CPBLyRb"
      },
      "source": [
        "2014"
      ]
    },
    {
      "cell_type": "code",
      "metadata": {
        "id": "qw0xlMDuLzl_",
        "outputId": "0abbe16c-1798-410a-ead4-13f298105a46",
        "colab": {
          "base_uri": "https://localhost:8080/"
        }
      },
      "source": [
        "nba_prediction(2014)"
      ],
      "execution_count": null,
      "outputs": [
        {
          "output_type": "stream",
          "text": [
            "===============================================================\n",
            "Coefficients\n",
            "           Coefficient\n",
            "teamEDiff     0.026151\n",
            "teamASST%     0.001311\n",
            "team2P%       0.687363\n",
            "team3P%      -0.054102\n",
            "teamFT%      -0.460590\n",
            "opptTO%      -0.011397\n",
            "pace         -0.003827\n",
            "Q4Diff        0.016137\n",
            "===============================================================\n",
            "Actual Win Rates vs. Predicted Win Rates for 2018\n",
            "   Team    Actual  Predicted\n",
            "0   ATL  0.378378   0.421039\n",
            "1   BKN  0.631579   0.516782\n",
            "2   BOS  0.294118   0.316174\n",
            "3   CHA  0.647059   0.660641\n",
            "4   CHI  0.675676   0.649819\n",
            "5   CLE  0.472222   0.541265\n",
            "6   DAL  0.647059   0.630402\n",
            "7   DEN  0.378378   0.353339\n",
            "8   DET  0.297297   0.395507\n",
            "9    GS  0.647059   0.632697\n",
            "10  HOU  0.676471   0.706954\n",
            "11  IND  0.567568   0.483834\n",
            "12  LAC  0.727273   0.802306\n",
            "13  LAL  0.314286   0.332542\n",
            "14  MEM  0.675676   0.632428\n",
            "15  MIA  0.594595   0.686139\n",
            "16  MIL  0.194444   0.332465\n",
            "17  MIN  0.472222   0.438248\n",
            "18   NO  0.405405   0.387525\n",
            "19   NY  0.500000   0.521986\n",
            "20  OKC  0.617647   0.578397\n",
            "21  ORL  0.294118   0.369240\n",
            "22  PHI  0.114286   0.128344\n",
            "23  PHO  0.555556   0.539505\n",
            "24  POR  0.583333   0.576395\n",
            "25   SA  0.805556   0.793670\n",
            "26  SAC  0.361111   0.397978\n",
            "27  TOR  0.638889   0.648996\n",
            "28  UTA  0.250000   0.236922\n",
            "29  WAS  0.594595   0.623284\n",
            "===============================================================\n",
            "Mean Squared Error for 2018\n",
            "29.102078635248166\n",
            "===============================================================\n",
            "\n"
          ],
          "name": "stdout"
        }
      ]
    },
    {
      "cell_type": "markdown",
      "metadata": {
        "id": "hx-YI7SnL3_q"
      },
      "source": [
        "2015"
      ]
    },
    {
      "cell_type": "code",
      "metadata": {
        "id": "fDHzaV8kL5Q5",
        "outputId": "b92f58ce-31f4-4daf-b09e-d0d474bf8766",
        "colab": {
          "base_uri": "https://localhost:8080/"
        }
      },
      "source": [
        "nba_prediction(2015)"
      ],
      "execution_count": null,
      "outputs": [
        {
          "output_type": "stream",
          "text": [
            "===============================================================\n",
            "Coefficients\n",
            "           Coefficient\n",
            "teamEDiff     0.034482\n",
            "teamASST%    -0.000107\n",
            "team2P%      -0.595562\n",
            "team3P%       0.296064\n",
            "teamFT%       0.039354\n",
            "opptTO%       0.015050\n",
            "pace         -0.006124\n",
            "Q4Diff       -0.013293\n",
            "===============================================================\n",
            "Actual Win Rates vs. Predicted Win Rates for 2018\n",
            "   Team    Actual  Predicted\n",
            "0   ATL  0.588235   0.612424\n",
            "1   BKN  0.555556   0.414196\n",
            "2   BOS  0.648649   0.578157\n",
            "3   CHA  0.371429   0.332145\n",
            "4   CHI  0.606061   0.641167\n",
            "5   CLE  0.727273   0.771175\n",
            "6   DAL  0.545455   0.456909\n",
            "7   DEN  0.323529   0.368671\n",
            "8   DET  0.411765   0.520009\n",
            "9    GS  0.810811   0.815639\n",
            "10  HOU  0.676471   0.568994\n",
            "11  IND  0.636364   0.634103\n",
            "12  LAC  0.676471   0.652981\n",
            "13  LAL  0.228571   0.219509\n",
            "14  MEM  0.571429   0.549327\n",
            "15  MIA  0.472222   0.468598\n",
            "16  MIL  0.457143   0.508445\n",
            "17  MIN  0.228571   0.211330\n",
            "18   NO  0.571429   0.510730\n",
            "19   NY  0.228571   0.126707\n",
            "20  OKC  0.628571   0.600032\n",
            "21  ORL  0.312500   0.322628\n",
            "22  PHI  0.235294   0.322209\n",
            "23  PHO  0.333333   0.309134\n",
            "24  POR  0.558824   0.552902\n",
            "25   SA  0.735294   0.830881\n",
            "26  SAC  0.333333   0.309340\n",
            "27  TOR  0.470588   0.490435\n",
            "28  UTA  0.600000   0.691628\n",
            "29  WAS  0.441176   0.503754\n",
            "===============================================================\n",
            "Mean Squared Error for 2018\n",
            "37.68329988979267\n",
            "===============================================================\n",
            "\n"
          ],
          "name": "stdout"
        }
      ]
    },
    {
      "cell_type": "markdown",
      "metadata": {
        "id": "vw4S-ESiMJGW"
      },
      "source": [
        "2016"
      ]
    },
    {
      "cell_type": "code",
      "metadata": {
        "id": "G6I9aHznMKKp",
        "outputId": "74d15345-737a-4410-c986-2565b471a64c",
        "colab": {
          "base_uri": "https://localhost:8080/"
        }
      },
      "source": [
        "nba_prediction(2016)"
      ],
      "execution_count": null,
      "outputs": [
        {
          "output_type": "stream",
          "text": [
            "===============================================================\n",
            "Coefficients\n",
            "           Coefficient\n",
            "teamEDiff     0.028942\n",
            "teamASST%     0.006010\n",
            "team2P%      -0.487660\n",
            "team3P%       0.025464\n",
            "teamFT%      -0.220401\n",
            "opptTO%      -0.006964\n",
            "pace         -0.008515\n",
            "Q4Diff        0.004812\n",
            "===============================================================\n",
            "Actual Win Rates vs. Predicted Win Rates for 2018\n",
            "   Team    Actual  Predicted\n",
            "0   ATL  0.636364   0.741439\n",
            "1   BKN  0.264706   0.290374\n",
            "2   BOS  0.636364   0.530832\n",
            "3   CHA  0.735294   0.694185\n",
            "4   CHI  0.444444   0.427764\n",
            "5   CLE  0.638889   0.687452\n",
            "6   DAL  0.437500   0.506131\n",
            "7   DEN  0.441176   0.448546\n",
            "8   DET  0.558824   0.492917\n",
            "9    GS  0.852941   0.743395\n",
            "10  HOU  0.500000   0.540018\n",
            "11  IND  0.571429   0.499641\n",
            "12  LAC  0.617647   0.639865\n",
            "13  LAL  0.250000   0.225915\n",
            "14  MEM  0.411765   0.381517\n",
            "15  MIA  0.617647   0.578576\n",
            "16  MIL  0.393939   0.393578\n",
            "17  MIN  0.454545   0.425569\n",
            "18   NO  0.333333   0.311884\n",
            "19   NY  0.281250   0.385531\n",
            "20  OKC  0.575758   0.654192\n",
            "21  ORL  0.388889   0.399297\n",
            "22  PHI  0.088235   0.201698\n",
            "23  PHO  0.272727   0.242886\n",
            "24  POR  0.636364   0.528059\n",
            "25   SA  0.800000   0.730121\n",
            "26  SAC  0.371429   0.360260\n",
            "27  TOR  0.685714   0.625046\n",
            "28  UTA  0.527778   0.603537\n",
            "29  WAS  0.540541   0.533161\n",
            "===============================================================\n",
            "Mean Squared Error for 2018\n",
            "38.98441944609758\n",
            "===============================================================\n",
            "\n"
          ],
          "name": "stdout"
        }
      ]
    },
    {
      "cell_type": "markdown",
      "metadata": {
        "id": "SPS6h3pxML7c"
      },
      "source": [
        "2017"
      ]
    },
    {
      "cell_type": "code",
      "metadata": {
        "id": "raQiLIkoMNWh",
        "outputId": "ea3854ed-3814-46a8-fbfc-53f53d480aa4",
        "colab": {
          "base_uri": "https://localhost:8080/"
        }
      },
      "source": [
        "nba_prediction(2017)"
      ],
      "execution_count": null,
      "outputs": [
        {
          "output_type": "stream",
          "text": [
            "===============================================================\n",
            "Coefficients\n",
            "           Coefficient\n",
            "teamEDiff     0.032068\n",
            "teamASST%     0.000939\n",
            "team2P%      -0.680116\n",
            "team3P%      -0.340541\n",
            "teamFT%      -0.324938\n",
            "opptTO%       0.013106\n",
            "pace          0.005210\n",
            "Q4Diff        0.001935\n",
            "===============================================================\n",
            "Actual Win Rates vs. Predicted Win Rates for 2018\n",
            "   Team    Actual  Predicted\n",
            "0   ATL  0.441176   0.480407\n",
            "1   BKN  0.323529   0.404580\n",
            "2   BOS  0.676471   0.574603\n",
            "3   CHA  0.393939   0.442479\n",
            "4   CHI  0.515152   0.532014\n",
            "5   CLE  0.542857   0.452063\n",
            "6   DAL  0.441176   0.400832\n",
            "7   DEN  0.542857   0.533225\n",
            "8   DET  0.470588   0.484960\n",
            "9    GS  0.764706   0.802486\n",
            "10  HOU  0.633333   0.657320\n",
            "11  IND  0.485714   0.493957\n",
            "12  LAC  0.617647   0.623026\n",
            "13  LAL  0.290323   0.298441\n",
            "14  MEM  0.437500   0.506713\n",
            "15  MIA  0.666667   0.700534\n",
            "16  MIL  0.600000   0.460614\n",
            "17  MIN  0.352941   0.414403\n",
            "18   NO  0.454545   0.470733\n",
            "19   NY  0.312500   0.322583\n",
            "20  OKC  0.575758   0.558464\n",
            "21  ORL  0.312500   0.234304\n",
            "22  PHI  0.285714   0.323888\n",
            "23  PHO  0.264706   0.366308\n",
            "24  POR  0.593750   0.523079\n",
            "25   SA  0.705882   0.684872\n",
            "26  SAC  0.393939   0.295145\n",
            "27  TOR  0.636364   0.577406\n",
            "28  UTA  0.636364   0.606031\n",
            "29  WAS  0.617647   0.555269\n",
            "===============================================================\n",
            "Mean Squared Error for 2018\n",
            "34.88198154088996\n",
            "===============================================================\n",
            "\n"
          ],
          "name": "stdout"
        }
      ]
    },
    {
      "cell_type": "markdown",
      "metadata": {
        "id": "4_pmJ5NVMOZF"
      },
      "source": [
        "2018"
      ]
    },
    {
      "cell_type": "code",
      "metadata": {
        "id": "Mn_EM6w2MPop",
        "outputId": "a9d85d3b-24d8-4132-cbf5-91b41098ca50",
        "colab": {
          "base_uri": "https://localhost:8080/"
        }
      },
      "source": [
        "nba_prediction(2018)"
      ],
      "execution_count": null,
      "outputs": [
        {
          "output_type": "stream",
          "text": [
            "===============================================================\n",
            "Coefficients\n",
            "           Coefficient\n",
            "teamEDiff     0.025764\n",
            "teamASST%    -0.001140\n",
            "team2P%       2.028516\n",
            "team3P%       1.061127\n",
            "teamFT%      -0.796107\n",
            "opptTO%      -0.028980\n",
            "pace         -0.014573\n",
            "Q4Diff        0.017864\n",
            "===============================================================\n",
            "Actual Win Rates vs. Predicted Win Rates for 2018\n",
            "   Team    Actual  Predicted\n",
            "0   ATL  0.290323   0.267136\n",
            "1   BKN  0.300000   0.403364\n",
            "2   BOS  0.600000   0.521343\n",
            "3   CHA  0.468750   0.539990\n",
            "4   CHI  0.290323   0.145302\n",
            "5   CLE  0.625000   0.701829\n",
            "6   DAL  0.266667   0.377741\n",
            "7   DEN  0.645161   0.679101\n",
            "8   DET  0.484848   0.530943\n",
            "9    GS  0.580645   0.604187\n",
            "10  HOU  0.878788   0.887407\n",
            "11  IND  0.633333   0.468233\n",
            "12  LAC  0.531250   0.638956\n",
            "13  LAL  0.500000   0.611079\n",
            "14  MEM  0.125000   0.086809\n",
            "15  MIA  0.483871   0.567393\n",
            "16  MIL  0.515152   0.444326\n",
            "17  MIN  0.535714   0.564973\n",
            "18   NO  0.656250   0.578687\n",
            "19   NY  0.200000   0.229744\n",
            "20  OKC  0.580645   0.575951\n",
            "21  ORL  0.312500   0.324723\n",
            "22  PHI  0.823529   0.783846\n",
            "23  PHO  0.100000   0.062608\n",
            "24  POR  0.645161   0.582140\n",
            "25   SA  0.448276   0.544812\n",
            "26  SAC  0.343750   0.330991\n",
            "27  TOR  0.757576   0.900154\n",
            "28  UTA  0.812500   0.943790\n",
            "29  WAS  0.468750   0.453560\n",
            "===============================================================\n",
            "Mean Squared Error for 2018\n",
            "64.15297206134089\n",
            "===============================================================\n",
            "\n"
          ],
          "name": "stdout"
        }
      ]
    },
    {
      "cell_type": "markdown",
      "metadata": {
        "id": "zDUb2ia7OMV1"
      },
      "source": [
        "# Visualization"
      ]
    },
    {
      "cell_type": "markdown",
      "metadata": {
        "id": "dT5F9J0AOPxO"
      },
      "source": [
        ""
      ]
    },
    {
      "cell_type": "markdown",
      "metadata": {
        "id": "ehliH0dwOW4S"
      },
      "source": [
        "# Conclusion\n"
      ]
    },
    {
      "cell_type": "markdown",
      "metadata": {
        "id": "BHZ2GUoGOaRA"
      },
      "source": [
        "**Overview**"
      ]
    },
    {
      "cell_type": "markdown",
      "metadata": {
        "id": "xQX-kid4WbDD"
      },
      "source": [
        "**Limitation**"
      ]
    },
    {
      "cell_type": "markdown",
      "metadata": {
        "id": "r35hemrjWc8U"
      },
      "source": [
        "**Future Studies**"
      ]
    },
    {
      "cell_type": "markdown",
      "metadata": {
        "id": "FsYwjo0WWfsR"
      },
      "source": [
        "**Learned**"
      ]
    }
  ]
}